{
  "cells": [
    {
      "cell_type": "markdown",
      "metadata": {
        "id": "pPrjBpBQIf1C"
      },
      "source": [
        "# Installs and Imports"
      ]
    },
    {
      "cell_type": "code",
      "execution_count": null,
      "metadata": {
        "id": "TSbLf0lxIlhR"
      },
      "outputs": [
        {
          "ename": "",
          "evalue": "",
          "output_type": "error",
          "traceback": [
            "\u001b[1;31mFailed to start the Kernel. \n",
            "\u001b[1;31mUnable to start Kernel 'jpmc (Python 3.10.10)' due to connection timeout. \n",
            "\u001b[1;31mView Jupyter <a href='command:jupyter.viewOutput'>log</a> for further details."
          ]
        }
      ],
      "source": [
        "import optax\n",
        "from jax import numpy as jnp\n",
        "import jax\n",
        "from functools import partial\n",
        "from tqdm import tqdm, trange\n",
        "import os"
      ]
    },
    {
      "cell_type": "markdown",
      "metadata": {
        "id": "5FgXP8UqIp_k"
      },
      "source": [
        "# Data"
      ]
    },
    {
      "cell_type": "markdown",
      "metadata": {
        "id": "h5k4mJjbK9JR"
      },
      "source": [
        "We begin by import the modules from the repository. Then to generate train and test data sets for geometric Brownian motion simulations we use the gen_paths() function in `data.py`. \n",
        "\n",
        "Note: The data generation has been commented here because we pickled a particular train and test split. "
      ]
    },
    {
      "cell_type": "code",
      "execution_count": null,
      "metadata": {
        "id": "WNDSG3KziiBV"
      },
      "outputs": [
        {
          "ename": "",
          "evalue": "",
          "output_type": "error",
          "traceback": [
            "\u001b[1;31mFailed to start the Kernel. \n",
            "\u001b[1;31mUnable to start Kernel 'jpmc (Python 3.10.10)' due to connection timeout. \n",
            "\u001b[1;31mView Jupyter <a href='command:jupyter.viewOutput'>log</a> for further details."
          ]
        }
      ],
      "source": [
        "from source.models import simple_network, recurrent_network, lstm_network, attention_network\n",
        "from source.qnn import linear, ortho_linear, ortho_linear_noisy\n",
        "from source.train import build_train_fn, gen_paths, entropy_loss\n",
        "from source.utils import train_test_split, get_batches, HyperParams, load_params, save_params\n",
        "import numpy as np\n",
        "import pickle\n",
        "\n",
        "seed = 100\n",
        "key = jax.random.PRNGKey(seed)\n",
        "hps = HyperParams(n_steps=30, discrete_path = False)\n",
        "\n",
        "# Data\n",
        "# S = gen_paths(hps)\n",
        "# [S_train, S_test] = train_test_split([S], test_size=0.2)\n",
        "# _, train_batches = get_batches(jnp.array(S_train[0]), batch_size=hps.batch_size)\n",
        "# _, test_batches = get_batches(jnp.array(S_test[0]), batch_size=hps.batch_size)"
      ]
    },
    {
      "cell_type": "code",
      "execution_count": null,
      "metadata": {
        "id": "NATMtIEggZtz"
      },
      "outputs": [
        {
          "ename": "",
          "evalue": "",
          "output_type": "error",
          "traceback": [
            "\u001b[1;31mFailed to start the Kernel. \n",
            "\u001b[1;31mUnable to start Kernel 'jpmc (Python 3.10.10)' due to connection timeout. \n",
            "\u001b[1;31mView Jupyter <a href='command:jupyter.viewOutput'>log</a> for further details."
          ]
        }
      ],
      "source": [
        "# saving train and test batches\n",
        "# pickle.dump(train_batches, open('/content/drive/MyDrive/JPMC/train_batches_30_days', 'wb'))\n",
        "# pickle.dump(test_batches, open('/content/drive/MyDrive/JPMC/test_batches_30_days', 'wb'))"
      ]
    },
    {
      "cell_type": "markdown",
      "metadata": {
        "id": "XUvxpg6RgYAE"
      },
      "source": [
        "# DeepHedgingBenchmark()\n",
        "\n",
        "This is a class to benchmark the performance of different models and layers for deep hedging. It has two methods: __train_model() and __test_model() which are used to train and test the deep learning models. It also has a train() method to train the model on given input data.\n",
        "\n",
        "## Parameters\n",
        "- `key`: A random key value used for jax random splitting.\n",
        "- `eps`: A list of float values representing the hedge intervals to be used in training.\n",
        "- `layers`: A list of string values representing the layer types to be used in \n",
        "training. It should only contain values from `['linear', 'ortho_pyramid', 'ortho_butterfly', 'noisy_ortho_pyramid', 'noisy_ortho_butterfly']`.\n",
        "- `models`: A list of string values representing the model types to be used in training. It should only contain values from `['simple', 'recurrent', 'lstm', 'attention']`.\n",
        "\n",
        "## Methods\n",
        "- `__train_model(hps, train_batches)`: A private method that trains the model. It takes in hyperparameters hps and train batches train_batches. The hyperparameters include layer_type, model_type, n_steps, epsilon, and num_epochs. It returns the training losses, trained model parameters and time taken for training.\n",
        "- `__test_model(hps,params, test_batches)`: A private method that tests the model. It takes in hyperparameters hps, trained model parameters params and test batches test_batches. The hyperparameters include layer_type, model_type, n_steps, epsilon, and num_epochs. It returns the testing loss.\n",
        "- `train(inputs, save_loc)`: A method to train the model. It takes in inputs and save_loc. Inputs are training data, and save_loc is the path where the trained model is to be saved. If the path exists, it loads the model from the location and continues training. It trains the model using the __train_model() method and for each combination of layers, eps and models. It saves the training information in train_info as a dictionary.\n",
        "- `test(test_batches,save_loc)`:  A method to test the model. It takes in test_batches and save_loc. test_batches are testing data, and save_loc is the path where the trained model is to be saved. If the path exists, it loads the model from the location and continues testing. It trains the model using the __test_model() method and for each combination of layers, eps and models."
      ]
    },
    {
      "cell_type": "code",
      "execution_count": null,
      "metadata": {
        "id": "1Gr5y7i3jYpo"
      },
      "outputs": [
        {
          "ename": "",
          "evalue": "",
          "output_type": "error",
          "traceback": [
            "\u001b[1;31mFailed to start the Kernel. \n",
            "\u001b[1;31mUnable to start Kernel 'jpmc (Python 3.10.10)' due to connection timeout. \n",
            "\u001b[1;31mView Jupyter <a href='command:jupyter.viewOutput'>log</a> for further details."
          ]
        }
      ],
      "source": [
        "_LAYERS  = [\n",
        "    'linear',\n",
        "    'ortho_pyramid',\n",
        "    'ortho_butterfly',\n",
        "    'noisy_ortho_pyramid',\n",
        "    'noisy_ortho_butterfly'\n",
        "]\n",
        "\n",
        "_MODELS = [\n",
        "    'simple',\n",
        "    'recurrent',\n",
        "    'lstm',\n",
        "    'attention'\n",
        "]\n",
        "class DeepHedgingBenchmark():\n",
        "  \"\"\"\n",
        "    Initializes a DeepHedgingBenchmark object with the given key, epsilon values,\n",
        "    layer types, and model types.\n",
        "\n",
        "    Args:\n",
        "    - key: a random key for reproducibility\n",
        "    - eps: a list of epsilon values for training\n",
        "    - layers: a list of layer types to use for training\n",
        "    - models: a list of model types to use for training\n",
        "\n",
        "    Returns:\n",
        "    - None\n",
        "    \"\"\"\n",
        "  def __init__(self, key, eps,  layers, models):\n",
        "    assert all(layer in  _LAYERS for layer in layers), f'Layers don\\'t have valid layer types.'\n",
        "    assert all(model in  _MODELS for model in models), f'Models don\\'t have valid model types.'\n",
        "    self.__key = key\n",
        "    self.__models = models\n",
        "    self.__layers = layers\n",
        "    self.__eps = eps\n",
        "    self.train_info = {layer:{str(eps):{} for eps in self.__eps} for layer in self.__layers}\n",
        "  def __train_model(self, hps, train_batches):\n",
        "    \"\"\"\n",
        "    Trains a model with the given hyperparameters and training batches.\n",
        "\n",
        "    Args:\n",
        "    - hps: a HyperParams object specifying the hyperparameters for the model\n",
        "    - train_batches: a generator of training batches\n",
        "\n",
        "    Returns:\n",
        "    - train_losses: a list of training losses for each epoch\n",
        "    - params: the final model parameters\n",
        "    - elapsed: the elapsed time for training the model\n",
        "    \"\"\"\n",
        "    if hps.layer_type == 'linear':\n",
        "      layer_func = linear\n",
        "    else:\n",
        "      layout = hps.layer_type.split('_')[-1]\n",
        "      if hps.layer_type.startswith('ortho'):\n",
        "        layer_func = partial(ortho_linear,layout = layout)\n",
        "      elif hps.layer_type.startswith('noisy_ortho'):\n",
        "        layer_func = partial(ortho_linear_noisy,layout = layout,noise_scale=0.01)\n",
        "\n",
        "    if hps.model_type == 'simple':\n",
        "      net = simple_network(hps=hps, layer_func=layer_func)\n",
        "    elif hps.model_type == 'recurrent':\n",
        "      net = recurrent_network(hps=hps, layer_func=layer_func)\n",
        "    elif hps.model_type == 'lstm':\n",
        "      net = lstm_network(hps=hps, layer_func=layer_func)\n",
        "    elif hps.model_type == 'attention':\n",
        "      net = attention_network(hps=hps, layer_func=layer_func)\n",
        "    \n",
        "    opt = optax.adam(1E-3)\n",
        "    key, init_key = jax.random.split(self.__key)\n",
        "    params, state, _ = net.init(init_key, (1, hps.n_steps, 1))\n",
        "    opt_state = opt.init(params)\n",
        "    loss_metric = entropy_loss\n",
        "\n",
        "    # Training\n",
        "\n",
        "    train_fn, loss_fn = build_train_fn(hps, net, opt, loss_metric)\n",
        "    num_epochs = hps.num_epochs\n",
        "    loss = 0.0\n",
        "    train_losses=[]\n",
        "    elapsed = 0    \n",
        "    with trange(1, num_epochs+1) as t:\n",
        "      for epoch in t:\n",
        "        loss_epoch = []\n",
        "        for i, inputs in enumerate(train_batches):\n",
        "          inputs = inputs[...,None]\n",
        "          key, train_key = jax.random.split(key)\n",
        "          params, state, opt_state, loss, (wealths, deltas, outputs) = train_fn(\n",
        "              params, state, opt_state, train_key, inputs)\n",
        "          loss_epoch.append(loss)\n",
        "        loss = jnp.mean(jnp.array(loss_epoch))\n",
        "        train_losses.append(loss)  \n",
        "        t.set_postfix(loss=loss,model=hps.model_type, layer=hps.layer_type, eps=hps.epsilon)\n",
        "        if epoch==num_epochs:\n",
        "          elapsed = t.format_dict[\"elapsed\"]\n",
        "    return train_losses,params, elapsed\n",
        "  def __test_model(self, hps,params, test_batches):\n",
        "\n",
        "    if hps.layer_type == 'linear':\n",
        "      layer_func = linear\n",
        "    else:\n",
        "      layout = hps.layer_type.split('_')[-1]\n",
        "      if hps.layer_type.startswith('ortho'):\n",
        "        layer_func = partial(ortho_linear,layout = layout)\n",
        "      elif hps.layer_type.startswith('noisy_ortho'):\n",
        "        layer_func = partial(ortho_linear_noisy,layout = layout,noise_scale=0.01)\n",
        "\n",
        "    if hps.model_type == 'simple':\n",
        "      net = simple_network(hps=hps, layer_func=layer_func)\n",
        "    elif hps.model_type == 'recurrent':\n",
        "      net = recurrent_network(hps=hps, layer_func=layer_func)\n",
        "    elif hps.model_type == 'lstm':\n",
        "      net = lstm_network(hps=hps, layer_func=layer_func)\n",
        "    elif hps.model_type == 'attention':\n",
        "      net = attention_network(hps=hps, layer_func=layer_func)\n",
        "    \n",
        "    opt = optax.adam(1E-3)\n",
        "    key, init_key = jax.random.split(self.__key)\n",
        "    _, state, _ = net.init(init_key, (1, hps.n_steps, 1))\n",
        "    loss_metric = entropy_loss\n",
        "\n",
        "    # Testing\n",
        "\n",
        "    _, loss_fn = build_train_fn(hps, net, opt, loss_metric)\n",
        "    loss = 0.0    \n",
        "    loss_epoch = []\n",
        "    for i, inputs in enumerate(test_batches):\n",
        "      inputs = inputs[...,None]\n",
        "      key, test_key = jax.random.split(key)\n",
        "      loss,_ = jax.jit(loss_fn)(params, state, test_key, inputs)\n",
        "      loss_epoch.append(loss)\n",
        "    loss = jnp.mean(jnp.array(loss_epoch))\n",
        "    print(f'Model = {hps.model_type} | Layer = {hps.layer_type} | EPS = {hps.epsilon}| Loss = {loss}')\n",
        "    return loss\n",
        "\n",
        "  def train(self, inputs, save_loc):\n",
        "    if os.path.exists(save_loc):\n",
        "      self.train_info = load_params(save_loc)\n",
        "    else:\n",
        "      self.train_info = {layer:{str(eps):{} for eps in self.__eps} for layer in self.__layers}\n",
        "    for layer in self.__layers:\n",
        "      for eps in self.__eps:\n",
        "        for model in self.__models:\n",
        "            hps = HyperParams(S0=100,\n",
        "                  n_steps=30,\n",
        "                  n_paths=120000,\n",
        "                  discrete_path=False,\n",
        "                  strike_price=100,\n",
        "                  epsilon=eps,\n",
        "                  sigma=0.2,\n",
        "                  risk_free=0,\n",
        "                  dividend=0,\n",
        "                  model_type=model,\n",
        "                  layer_type=layer,\n",
        "                  n_features=16,\n",
        "                  n_layers=3,\n",
        "                  loss_param=1.0,\n",
        "                  batch_size=256,\n",
        "                  test_size=0.2,\n",
        "                  optimizer='adam',\n",
        "                  learning_rate=1E-3,\n",
        "                  num_epochs=100\n",
        "                  )\n",
        "\n",
        "            if model in self.train_info[layer][str(eps)].keys():\n",
        "              train_losses,params, elapsed = self.train_info[layer][str(eps)][model]\n",
        "              \n",
        "              loss = min(train_losses)\n",
        "              num_params = sum(x.size for x in jax.tree_util.tree_leaves(params))\n",
        "              epochs = len(train_losses)\n",
        "              print(f'[eps={eps}, layer={layer}, loss={loss}, model={model}, num_params = {num_params}, elapsed = {elapsed}, num_epochs = {epochs}] already saved, continuing...')\n",
        "              continue\n",
        "            else:\n",
        "              result = self.__train_model(hps, inputs)\n",
        "              self.train_info[layer][str(eps)][model] = result\n",
        "              save_params(save_loc,self.train_info)\n",
        "  \n",
        "  def test(self, test_batches, save_loc):\n",
        "    if os.path.exists(save_loc):\n",
        "      self.train_info = load_params(save_loc)\n",
        "    for model in self.__models:\n",
        "      for eps in self.__eps:\n",
        "        for layer in self.__layers:\n",
        "            hps = HyperParams(S0=100,\n",
        "                  n_steps=30,\n",
        "                  n_paths=120000,\n",
        "                  discrete_path=False,\n",
        "                  strike_price=100,\n",
        "                  epsilon=eps,\n",
        "                  sigma=0.2,\n",
        "                  risk_free=0,\n",
        "                  dividend=0,\n",
        "                  model_type=model,\n",
        "                  layer_type=layer,\n",
        "                  n_features=16,\n",
        "                  n_layers=3,\n",
        "                  loss_param=1.0,\n",
        "                  batch_size=256,\n",
        "                  test_size=0.2,\n",
        "                  optimizer='adam',\n",
        "                  learning_rate=1E-3,\n",
        "                  num_epochs=100\n",
        "                  )\n",
        "            if model in self.train_info[layer][str(eps)].keys():\n",
        "              _,params, _ = self.train_info[layer][str(eps)][model]\n",
        "              self.__test_model(hps,params, test_batches)\n",
        "            else:\n",
        "              print(f\"Error! layer={layer}, eps={eps}, model={model} not found\")"
      ]
    },
    {
      "cell_type": "code",
      "execution_count": null,
      "metadata": {
        "id": "HqfLzp-fjesE"
      },
      "outputs": [
        {
          "ename": "",
          "evalue": "",
          "output_type": "error",
          "traceback": [
            "\u001b[1;31mFailed to start the Kernel. \n",
            "\u001b[1;31mUnable to start Kernel 'jpmc (Python 3.10.10)' due to connection timeout. \n",
            "\u001b[1;31mView Jupyter <a href='command:jupyter.viewOutput'>log</a> for further details."
          ]
        }
      ],
      "source": [
        "seed = 100\n",
        "key = jax.random.PRNGKey(seed)\n",
        "\n",
        "LAYERS = ['linear', 'ortho_pyramid', 'ortho_butterfly']\n",
        "EPS = [ 0.0 , 0.01]\n",
        "MODELS = ['simple','recurrent','lstm', 'attention']\n",
        "\n",
        "dhb = DeepHedgingBenchmark(key=key,eps=EPS, layers=LAYERS, models=MODELS)"
      ]
    },
    {
      "cell_type": "code",
      "execution_count": null,
      "metadata": {
        "id": "xQ0xOceqC-u9"
      },
      "outputs": [
        {
          "ename": "",
          "evalue": "",
          "output_type": "error",
          "traceback": [
            "\u001b[1;31mFailed to start the Kernel. \n",
            "\u001b[1;31mUnable to start Kernel 'jpmc (Python 3.10.10)' due to connection timeout. \n",
            "\u001b[1;31mView Jupyter <a href='command:jupyter.viewOutput'>log</a> for further details."
          ]
        }
      ],
      "source": [
        "train_batches = pickle.load(open('data/train_batches_30_days', 'rb'))"
      ]
    },
    {
      "cell_type": "code",
      "execution_count": null,
      "metadata": {
        "colab": {
          "base_uri": "https://localhost:8080/"
        },
        "id": "CType_0ZrN7r",
        "outputId": "6c379f84-4eb1-450e-e359-d8305327008a"
      },
      "outputs": [
        {
          "ename": "",
          "evalue": "",
          "output_type": "error",
          "traceback": [
            "\u001b[1;31mFailed to interrupt the Kernel. \n",
            "\u001b[1;31mUnable to start Kernel 'jpmc (Python 3.10.10)' due to connection timeout. \n",
            "\u001b[1;31mView Jupyter <a href='command:jupyter.viewOutput'>log</a> for further details."
          ]
        },
        {
          "ename": "",
          "evalue": "",
          "output_type": "error",
          "traceback": [
            "\u001b[1;31mFailed to start the Kernel. \n",
            "\u001b[1;31mUnable to start Kernel 'jpmc (Python 3.10.10)' due to connection timeout. \n",
            "\u001b[1;31mView Jupyter <a href='command:jupyter.viewOutput'>log</a> for further details."
          ]
        }
      ],
      "source": [
        "dhb.train(train_batches,save_loc='params/train_info.pkl')"
      ]
    },
    {
      "cell_type": "code",
      "execution_count": null,
      "metadata": {
        "id": "YAheb09WeUC5"
      },
      "outputs": [
        {
          "ename": "",
          "evalue": "",
          "output_type": "error",
          "traceback": [
            "\u001b[1;31mFailed to start the Kernel. \n",
            "\u001b[1;31mUnable to start Kernel 'jpmc (Python 3.10.10)' due to connection timeout. \n",
            "\u001b[1;31mView Jupyter <a href='command:jupyter.viewOutput'>log</a> for further details."
          ]
        }
      ],
      "source": [
        "test_batches = pickle.load(open('data/test_batches_30_days', 'rb'))"
      ]
    },
    {
      "cell_type": "code",
      "execution_count": null,
      "metadata": {
        "colab": {
          "base_uri": "https://localhost:8080/"
        },
        "id": "na_5LlaIeM5l",
        "outputId": "34edd995-761e-4ba8-ec0c-c3d85700502d"
      },
      "outputs": [
        {
          "ename": "",
          "evalue": "",
          "output_type": "error",
          "traceback": [
            "\u001b[1;31mFailed to start the Kernel. \n",
            "\u001b[1;31mUnable to start Kernel 'jpmc (Python 3.10.10)' due to connection timeout. \n",
            "\u001b[1;31mView Jupyter <a href='command:jupyter.viewOutput'>log</a> for further details."
          ]
        }
      ],
      "source": [
        "dhb.test(test_batches,save_loc='params/train_info.pkl')"
      ]
    }
  ],
  "metadata": {
    "accelerator": "GPU",
    "colab": {
      "provenance": []
    },
    "gpuClass": "standard",
    "kernelspec": {
      "display_name": "jpmc",
      "language": "python",
      "name": "python3"
    },
    "language_info": {
      "codemirror_mode": {
        "name": "ipython",
        "version": 3
      },
      "file_extension": ".py",
      "mimetype": "text/x-python",
      "name": "python",
      "nbconvert_exporter": "python",
      "pygments_lexer": "ipython3",
      "version": "3.10.10"
    },
    "vscode": {
      "interpreter": {
        "hash": "ad54ef31d854a95caa7f093c1b575c6633ad4c5ad56f723ed5e92cb8b22d7116"
      }
    }
  },
  "nbformat": 4,
  "nbformat_minor": 0
}
