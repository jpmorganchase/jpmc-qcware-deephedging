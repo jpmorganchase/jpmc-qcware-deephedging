{
 "cells": [
  {
   "cell_type": "markdown",
   "metadata": {
    "id": "d4N54UWkze-O"
   },
   "source": [
    "# Imports"
   ]
  },
  {
   "cell_type": "code",
   "execution_count": 1,
   "metadata": {
    "id": "FXSzgmKfN8-a"
   },
   "outputs": [],
   "source": [
    "\n",
    "from source import config\n",
    "import numpy as np\n",
    "import jax\n",
    "from tqdm import tqdm\n",
    "import optax\n",
    "from functools import partial \n",
    "import pickle \n",
    "\n",
    "from source.qnn import linear, ortho_linear, ortho_linear_noisy, ortho_linear_hardware\n",
    "from source.train import build_train_fn, entropy_loss, gen_paths\n",
    "from source.models import simple_network, recurrent_network_hardware, lstm_network_hardware, attention_network\n",
    "from source.utils import train_test_split, get_batches, HyperParams"
   ]
  },
  {
   "cell_type": "code",
   "execution_count": 2,
   "metadata": {},
   "outputs": [],
   "source": [
    "np.set_printoptions(formatter={'float': \"{0:0.3f}\".format})"
   ]
  },
  {
   "attachments": {},
   "cell_type": "markdown",
   "metadata": {
    "id": "A6TcMo24PAKh"
   },
   "source": [
    "# Data\n",
    "\n",
    "We begin by import the modules from the repository. Then to generate test data using geometric Brownian motion we use the `gen_paths()` function in `data.py`. \n",
    "\n",
    "Note: The data generation has been commented here because we pickled a particular test split. "
   ]
  },
  {
   "cell_type": "code",
   "execution_count": 3,
   "metadata": {
    "colab": {
     "base_uri": "https://localhost:8080/"
    },
    "id": "NOnoeMTmz7ZO",
    "outputId": "b6171e83-ceec-4116-e9fd-b8c6790c2fb6"
   },
   "outputs": [
    {
     "name": "stderr",
     "output_type": "stream",
     "text": [
      "WARNING:absl:No GPU/TPU found, falling back to CPU. (Set TF_CPP_MIN_LOG_LEVEL=0 and rerun for more info.)\n"
     ]
    }
   ],
   "source": [
    "seed = 100\n",
    "key = jax.random.PRNGKey(seed)\n",
    "# No need to generate data as we load from disk\n",
    "# hps = HyperParams(S0=100,\n",
    "#                   n_steps=5,\n",
    "#                   n_paths=10000,\n",
    "#                   discrete_path=False,\n",
    "#                   strike_price=100,\n",
    "#                   epsilon=0.0,\n",
    "#                   sigma=0.2,\n",
    "#                   risk_free=0,\n",
    "#                   dividend=0,\n",
    "#                   model_type='simple',\n",
    "#                   layer_type='noisy_ortho',\n",
    "#                   n_features=8,\n",
    "#                   n_layers=1,\n",
    "#                   loss_param=1.0,\n",
    "#                   batch_size=4,\n",
    "#                   test_size=0.2,\n",
    "#                   optimizer='adam',\n",
    "#                   learning_rate=1E-3,\n",
    "#                   num_epochs=100\n",
    "#                   )\n",
    "\n",
    "\n",
    "# Data\n",
    "# S = gen_paths(hps)\n",
    "# [S_train, S_test] = train_test_split([S], test_size=0.2)\n",
    "# _, test_batches = get_batches(jnp.array(S_test[0]), batch_size=hps.batch_size)\n",
    "# test_batch = test_batches[0]\n"
   ]
  },
  {
   "attachments": {},
   "cell_type": "markdown",
   "metadata": {},
   "source": [
    "# DeepHedgingBenchmark()\n",
    "\n",
    "This is a class to benchmark the performance of different models and layers for deep hedging. It has one main method __test_model() which is used to perform inference using the layers and models specified in the input. Note that choosing `hps.layer_type` to `ortho_linear_hardware()` runs inference on hardware backend using `run_circuit()` function defined above. \n",
    "\n",
    "#### Parameters\n",
    "- `key`: A random key value used for jax random splitting.\n",
    "- `eps`: A list of float values representing the hedge intervals to be used in training.\n",
    "- `layers`: A list of string values representing the layer types to be used in \n",
    "training. It should only contain values from `['linear', 'ortho', 'noisy_ortho', 'hardware_ortho']`.\n",
    "- `models`: A list of string values representing the model types to be used in training. It should only contain values from `['simple', 'recurrent', 'lstm', 'attention']`.\n",
    "\n",
    "#### Methods\n",
    "- `__test_model(hps,test_batch,backend_name, device_id, params_dir)`: A private method that tests the model. It takes in hyperparameters hps, a batch of paths `test_batch` to run inference on and `params_dir` which specifies where to load the saved model parameters from. The hyperparameters include layer_type, model_type, n_steps, epsilon, and num_epochs. It returns the testing loss.\n",
    "- `test(test_batch)`:  A method to test the model. It takes in `test_batch` which is the testing data and then output the necessary information about the model. It outputs the layer, the model architecture, the utility on these paths and the number of circuits executed. It also prints the output actions for each day and the Terminal PnL for each paths. "
   ]
  },
  {
   "cell_type": "code",
   "execution_count": 4,
   "metadata": {
    "id": "fVm_ZjYhHCQu"
   },
   "outputs": [],
   "source": [
    "from source.utils import load_params\n",
    "from source.hardware_utils import prepare_circuit, run_circuit\n",
    "\n",
    "class DeepHedgingBenchmark():\n",
    "  \"\"\"\n",
    "  Runs the benchmark with different models / layers\n",
    "  Input: test_batch above\n",
    "  test_batch has 8 datapoints\n",
    "  \"\"\"\n",
    "  def __init__(self, key, eps,  layers, models):\n",
    "      self.__key = key\n",
    "      self.__models = models\n",
    "      self.__layers = layers\n",
    "      self.__eps = eps\n",
    "      self.test_info = {layer:{str(eps):{} for eps in self.__eps} for layer in self.__layers}\n",
    "  def __test_model(self, hps, test_batch,backend_name, device_id, params_dir):\n",
    "    global_number_of_circuits_executed = 0\n",
    "    global_hardware_run_results_dict = {\n",
    "        'model_type' : hps.model_type,\n",
    "        'measurementRes' : None,\n",
    "        'epsilon' : hps.epsilon,\n",
    "        'backend_name' : None,\n",
    "        'layer_type' : hps.layer_type,\n",
    "        'batch_idx' : 0,\n",
    "    }\n",
    "    config.global_number_of_circuits_executed = global_number_of_circuits_executed  \n",
    "    config.global_hardware_run_results_dict = global_hardware_run_results_dict\n",
    "    if hps.layer_type in ['linear','linear_svb']:\n",
    "      layer_func = linear\n",
    "    elif hps.layer_type=='ortho':\n",
    "      layer_func = ortho_linear\n",
    "    elif hps.layer_type=='noisy_ortho':\n",
    "      layer_func = partial(ortho_linear_noisy,noise_scale=0.01)\n",
    "    elif hps.layer_type=='hardware_ortho':\n",
    "      # TODO want to run this on Quantinuum device \n",
    "      layer_func = partial(ortho_linear_hardware,prepare_circuit, partial(run_circuit,device_id = device_id,backend_name = backend_name) )\n",
    "\n",
    "    if hps.model_type == 'simple':\n",
    "      net = simple_network(hps=hps, layer_func=layer_func)\n",
    "    elif hps.model_type == 'recurrent':\n",
    "      net = recurrent_network_hardware(hps=hps, layer_func=layer_func)\n",
    "    elif hps.model_type == 'lstm':\n",
    "      net = lstm_network_hardware(hps=hps, layer_func=layer_func)\n",
    "    elif hps.model_type == 'attention':\n",
    "      net = attention_network(hps=hps, layer_func=layer_func)\n",
    "    \n",
    "    opt = optax.adam(1E-3)\n",
    "    key, init_key = jax.random.split(self.__key)\n",
    "    _, state, _ = net.init(init_key, (1, hps.n_steps, 1))\n",
    "    loss_metric = entropy_loss\n",
    "\n",
    "    # Training\n",
    "\n",
    "    train_fn, loss_fn = build_train_fn(hps, net, opt, loss_metric)\n",
    "\n",
    "    train_info = load_params(params_dir)\n",
    "    layer_type = \"noisy_ortho\" if hps.layer_type == 'hardware_ortho' else hps.layer_type\n",
    "    train_losses, params = train_info[layer_type][str(hps.epsilon)][hps.model_type]\n",
    "    loss, (state, wealths, deltas, outputs) = loss_fn(params, state, key, test_batch[...,None])\n",
    "    print(f'Model = {hps.model_type} | Layer = {hps.layer_type} | EPS = {hps.epsilon}| Loss = {loss} | #circs = {global_number_of_circuits_executed}')\n",
    "    # Display Deltas and Terminal PnL if batch size is small\n",
    "    if len(test_batch) < 10:\n",
    "      print(f'Deltas = {deltas[...,0]}')\n",
    "      print(f'Terminal PnL = {wealths.reshape(-1)}')\n",
    "    return loss\n",
    "  def test(self, inputs, backend_name, device_id, params_dir):\n",
    "    for model in self.__models:\n",
    "      for eps in self.__eps:\n",
    "        for layer in self.__layers:\n",
    "            hps = HyperParams(S0=100,\n",
    "                  discrete_path=True,\n",
    "                  strike_price=100,\n",
    "                  epsilon=eps,\n",
    "                  sigma=0.2,\n",
    "                  risk_free=0,\n",
    "                  dividend=0,\n",
    "                  model_type=model,\n",
    "                  layer_type=layer,\n",
    "                  n_features=16,\n",
    "                  n_layers=1,\n",
    "                  loss_param=1.0,\n",
    "                  batch_size=4,\n",
    "                  test_size=0.2,\n",
    "                  optimizer='adam',\n",
    "                  learning_rate=1E-3,\n",
    "                  num_epochs=100)\n",
    "            self.test_info[layer][str(eps)][model] = self.__test_model(hps, inputs, backend_name, device_id, params_dir)\n",
    "    \n",
    "\n"
   ]
  },
  {
   "attachments": {},
   "cell_type": "markdown",
   "metadata": {},
   "source": [
    "# Hardware Emulator Backend"
   ]
  },
  {
   "attachments": {},
   "cell_type": "markdown",
   "metadata": {},
   "source": [
    "## Load Test Data"
   ]
  },
  {
   "cell_type": "code",
   "execution_count": 5,
   "metadata": {},
   "outputs": [],
   "source": [
    "# pickle.dump(test_batch, open('data/1103_test_batch_30_points.pickle', 'wb'))\n",
    "test_batch = pickle.load(open('data/1103_test_batch_30_points.pickle', 'rb'))"
   ]
  },
  {
   "attachments": {},
   "cell_type": "markdown",
   "metadata": {},
   "source": [
    "### Simple, Recurrent, LSTM, and Attention"
   ]
  },
  {
   "attachments": {},
   "cell_type": "markdown",
   "metadata": {},
   "source": [
    "Non-emulator results:\n",
    "30 days, 32 paths\n",
    "\n",
    "```\n",
    "Model = simple | Layer = linear | EPS = 0.01| Loss = 5.014517784118652 | #circs = 0\n",
    "Model = simple | Layer = ortho | EPS = 0.01| Loss = 5.0412492752075195 | #circs = 0\n",
    "Model = simple | Layer = noisy_ortho | EPS = 0.01| Loss = 5.003141403198242 | #circs = 0\n",
    "Model = recurrent | Layer = linear | EPS = 0.01| Loss = 5.190323829650879 | #circs = 0\n",
    "Model = recurrent | Layer = ortho | EPS = 0.01| Loss = 5.0067362785339355 | #circs = 0\n",
    "Model = recurrent | Layer = noisy_ortho | EPS = 0.01| Loss = 4.838649272918701 | #circs = 0\n",
    "Model = lstm | Layer = linear | EPS = 0.01| Loss = 4.761508941650391 | #circs = 0\n",
    "Model = lstm | Layer = ortho | EPS = 0.01| Loss = 4.8098063468933105 | #circs = 0\n",
    "Model = lstm | Layer = noisy_ortho | EPS = 0.01| Loss = 4.798060417175293 | #circs = 0\n",
    "Model = attention | Layer = linear | EPS = 0.01| Loss = 4.776426315307617 | #circs = 0\n",
    "Model = attention | Layer = ortho | EPS = 0.01| Loss = 4.846531391143799 | #circs = 0\n",
    "Model = attention | Layer = noisy_ortho | EPS = 0.01| Loss = 4.843540191650391 | #circs = 0\n",
    "```"
   ]
  },
  {
   "cell_type": "code",
   "execution_count": 7,
   "metadata": {},
   "outputs": [
    {
     "name": "stderr",
     "output_type": "stream",
     "text": [
      "/Users/nashmathur/qcware/jpmc-qcware-deephedging/jpmc/lib/python3.9/site-packages/numpy/linalg/linalg.py:2154: RuntimeWarning: divide by zero encountered in det\n",
      "  r = _umath_linalg.det(a, signature=signature)\n",
      "/Users/nashmathur/qcware/jpmc-qcware-deephedging/jpmc/lib/python3.9/site-packages/numpy/linalg/linalg.py:2154: RuntimeWarning: invalid value encountered in det\n",
      "  r = _umath_linalg.det(a, signature=signature)\n"
     ]
    },
    {
     "name": "stdout",
     "output_type": "stream",
     "text": [
      "Using precomputed counts from data/1128_part_1_simple_quantinuum_H1-1E_hardware_ortho_0.01_0.json\n",
      "Model = simple | Layer = hardware_ortho | EPS = 0.01| Loss = 5.155247688293457 | #circs = 0\n"
     ]
    },
    {
     "name": "stderr",
     "output_type": "stream",
     "text": [
      "/Users/nashmathur/qcware/jpmc-qcware-deephedging/jpmc/lib/python3.9/site-packages/numpy/linalg/linalg.py:2154: RuntimeWarning: divide by zero encountered in det\n",
      "  r = _umath_linalg.det(a, signature=signature)\n",
      "/Users/nashmathur/qcware/jpmc-qcware-deephedging/jpmc/lib/python3.9/site-packages/numpy/linalg/linalg.py:2154: RuntimeWarning: invalid value encountered in det\n",
      "  r = _umath_linalg.det(a, signature=signature)\n"
     ]
    },
    {
     "name": "stdout",
     "output_type": "stream",
     "text": [
      "Using precomputed counts from data/1128_part_1_recurrent_quantinuum_H1-1E_hardware_ortho_0.01_0.json\n",
      "Using precomputed counts from data/1128_part_1_recurrent_quantinuum_H1-1E_hardware_ortho_0.01_1.json\n",
      "Using precomputed counts from data/1128_part_1_recurrent_quantinuum_H1-1E_hardware_ortho_0.01_2.json\n",
      "Using precomputed counts from data/1128_part_1_recurrent_quantinuum_H1-1E_hardware_ortho_0.01_3.json\n",
      "Using precomputed counts from data/1128_part_1_recurrent_quantinuum_H1-1E_hardware_ortho_0.01_4.json\n",
      "Using precomputed counts from data/1128_part_1_recurrent_quantinuum_H1-1E_hardware_ortho_0.01_5.json\n",
      "Using precomputed counts from data/1128_part_1_recurrent_quantinuum_H1-1E_hardware_ortho_0.01_6.json\n",
      "Using precomputed counts from data/1128_part_1_recurrent_quantinuum_H1-1E_hardware_ortho_0.01_7.json\n",
      "Using precomputed counts from data/1128_part_1_recurrent_quantinuum_H1-1E_hardware_ortho_0.01_8.json\n",
      "Using precomputed counts from data/1128_part_1_recurrent_quantinuum_H1-1E_hardware_ortho_0.01_9.json\n",
      "Using precomputed counts from data/1128_part_1_recurrent_quantinuum_H1-1E_hardware_ortho_0.01_10.json\n",
      "Using precomputed counts from data/1128_part_1_recurrent_quantinuum_H1-1E_hardware_ortho_0.01_11.json\n",
      "Using precomputed counts from data/1128_part_1_recurrent_quantinuum_H1-1E_hardware_ortho_0.01_12.json\n",
      "Using precomputed counts from data/1128_part_1_recurrent_quantinuum_H1-1E_hardware_ortho_0.01_13.json\n",
      "Using precomputed counts from data/1128_part_1_recurrent_quantinuum_H1-1E_hardware_ortho_0.01_14.json\n",
      "Using precomputed counts from data/1128_part_1_recurrent_quantinuum_H1-1E_hardware_ortho_0.01_15.json\n",
      "Using precomputed counts from data/1128_part_1_recurrent_quantinuum_H1-1E_hardware_ortho_0.01_16.json\n",
      "Using precomputed counts from data/1128_part_1_recurrent_quantinuum_H1-1E_hardware_ortho_0.01_17.json\n",
      "Using precomputed counts from data/1128_part_1_recurrent_quantinuum_H1-1E_hardware_ortho_0.01_18.json\n",
      "Using precomputed counts from data/1128_part_1_recurrent_quantinuum_H1-1E_hardware_ortho_0.01_19.json\n",
      "Using precomputed counts from data/1128_part_1_recurrent_quantinuum_H1-1E_hardware_ortho_0.01_20.json\n",
      "Using precomputed counts from data/1128_part_1_recurrent_quantinuum_H1-1E_hardware_ortho_0.01_21.json\n",
      "Using precomputed counts from data/1128_part_1_recurrent_quantinuum_H1-1E_hardware_ortho_0.01_22.json\n",
      "Using precomputed counts from data/1128_part_1_recurrent_quantinuum_H1-1E_hardware_ortho_0.01_23.json\n",
      "Using precomputed counts from data/1128_part_1_recurrent_quantinuum_H1-1E_hardware_ortho_0.01_24.json\n",
      "Using precomputed counts from data/1128_part_1_recurrent_quantinuum_H1-1E_hardware_ortho_0.01_25.json\n",
      "Using precomputed counts from data/1128_part_1_recurrent_quantinuum_H1-1E_hardware_ortho_0.01_26.json\n",
      "Using precomputed counts from data/1128_part_1_recurrent_quantinuum_H1-1E_hardware_ortho_0.01_27.json\n",
      "Using precomputed counts from data/1128_part_1_recurrent_quantinuum_H1-1E_hardware_ortho_0.01_28.json\n",
      "Using precomputed counts from data/1128_part_1_recurrent_quantinuum_H1-1E_hardware_ortho_0.01_29.json\n",
      "Model = recurrent | Layer = hardware_ortho | EPS = 0.01| Loss = 5.333916187286377 | #circs = 0\n",
      "Using precomputed counts from data/1128_part_1_lstm_quantinuum_H1-1E_hardware_ortho_0.01_0.json\n",
      "Using precomputed counts from data/1128_part_1_lstm_quantinuum_H1-1E_hardware_ortho_0.01_1.json\n",
      "Using precomputed counts from data/1128_part_1_lstm_quantinuum_H1-1E_hardware_ortho_0.01_2.json\n",
      "Using precomputed counts from data/1128_part_1_lstm_quantinuum_H1-1E_hardware_ortho_0.01_3.json\n",
      "Using precomputed counts from data/1128_part_1_lstm_quantinuum_H1-1E_hardware_ortho_0.01_4.json\n",
      "Using precomputed counts from data/1128_part_1_lstm_quantinuum_H1-1E_hardware_ortho_0.01_5.json\n",
      "Using precomputed counts from data/1128_part_1_lstm_quantinuum_H1-1E_hardware_ortho_0.01_6.json\n",
      "Using precomputed counts from data/1128_part_1_lstm_quantinuum_H1-1E_hardware_ortho_0.01_7.json\n",
      "Using precomputed counts from data/1128_part_1_lstm_quantinuum_H1-1E_hardware_ortho_0.01_8.json\n",
      "Using precomputed counts from data/1128_part_1_lstm_quantinuum_H1-1E_hardware_ortho_0.01_9.json\n",
      "Using precomputed counts from data/1128_part_1_lstm_quantinuum_H1-1E_hardware_ortho_0.01_10.json\n",
      "Using precomputed counts from data/1128_part_1_lstm_quantinuum_H1-1E_hardware_ortho_0.01_11.json\n",
      "Using precomputed counts from data/1128_part_1_lstm_quantinuum_H1-1E_hardware_ortho_0.01_12.json\n",
      "Using precomputed counts from data/1128_part_1_lstm_quantinuum_H1-1E_hardware_ortho_0.01_13.json\n",
      "Using precomputed counts from data/1128_part_1_lstm_quantinuum_H1-1E_hardware_ortho_0.01_14.json\n",
      "Using precomputed counts from data/1128_part_1_lstm_quantinuum_H1-1E_hardware_ortho_0.01_15.json\n",
      "Using precomputed counts from data/1128_part_1_lstm_quantinuum_H1-1E_hardware_ortho_0.01_16.json\n",
      "Using precomputed counts from data/1128_part_1_lstm_quantinuum_H1-1E_hardware_ortho_0.01_17.json\n",
      "Using precomputed counts from data/1128_part_1_lstm_quantinuum_H1-1E_hardware_ortho_0.01_18.json\n",
      "Using precomputed counts from data/1128_part_1_lstm_quantinuum_H1-1E_hardware_ortho_0.01_19.json\n",
      "Using precomputed counts from data/1128_part_1_lstm_quantinuum_H1-1E_hardware_ortho_0.01_20.json\n",
      "Using precomputed counts from data/1128_part_1_lstm_quantinuum_H1-1E_hardware_ortho_0.01_21.json\n",
      "Using precomputed counts from data/1128_part_1_lstm_quantinuum_H1-1E_hardware_ortho_0.01_22.json\n",
      "Using precomputed counts from data/1128_part_1_lstm_quantinuum_H1-1E_hardware_ortho_0.01_23.json\n",
      "Using precomputed counts from data/1128_part_1_lstm_quantinuum_H1-1E_hardware_ortho_0.01_24.json\n",
      "Using precomputed counts from data/1128_part_1_lstm_quantinuum_H1-1E_hardware_ortho_0.01_25.json\n",
      "Using precomputed counts from data/1128_part_1_lstm_quantinuum_H1-1E_hardware_ortho_0.01_26.json\n",
      "Using precomputed counts from data/1128_part_1_lstm_quantinuum_H1-1E_hardware_ortho_0.01_27.json\n",
      "Using precomputed counts from data/1128_part_1_lstm_quantinuum_H1-1E_hardware_ortho_0.01_28.json\n",
      "Using precomputed counts from data/1128_part_1_lstm_quantinuum_H1-1E_hardware_ortho_0.01_29.json\n",
      "Using precomputed counts from data/1128_part_1_lstm_quantinuum_H1-1E_hardware_ortho_0.01_30.json\n",
      "Using precomputed counts from data/1128_part_1_lstm_quantinuum_H1-1E_hardware_ortho_0.01_31.json\n",
      "Using precomputed counts from data/1128_part_1_lstm_quantinuum_H1-1E_hardware_ortho_0.01_32.json\n",
      "Using precomputed counts from data/1128_part_1_lstm_quantinuum_H1-1E_hardware_ortho_0.01_33.json\n",
      "Using precomputed counts from data/1128_part_1_lstm_quantinuum_H1-1E_hardware_ortho_0.01_34.json\n",
      "Using precomputed counts from data/1128_part_1_lstm_quantinuum_H1-1E_hardware_ortho_0.01_35.json\n",
      "Using precomputed counts from data/1128_part_1_lstm_quantinuum_H1-1E_hardware_ortho_0.01_36.json\n",
      "Using precomputed counts from data/1128_part_1_lstm_quantinuum_H1-1E_hardware_ortho_0.01_37.json\n",
      "Using precomputed counts from data/1128_part_1_lstm_quantinuum_H1-1E_hardware_ortho_0.01_38.json\n",
      "Using precomputed counts from data/1128_part_1_lstm_quantinuum_H1-1E_hardware_ortho_0.01_39.json\n",
      "Using precomputed counts from data/1128_part_1_lstm_quantinuum_H1-1E_hardware_ortho_0.01_40.json\n",
      "Using precomputed counts from data/1128_part_1_lstm_quantinuum_H1-1E_hardware_ortho_0.01_41.json\n",
      "Using precomputed counts from data/1128_part_1_lstm_quantinuum_H1-1E_hardware_ortho_0.01_42.json\n",
      "Using precomputed counts from data/1128_part_1_lstm_quantinuum_H1-1E_hardware_ortho_0.01_43.json\n",
      "Using precomputed counts from data/1128_part_1_lstm_quantinuum_H1-1E_hardware_ortho_0.01_44.json\n",
      "Using precomputed counts from data/1128_part_1_lstm_quantinuum_H1-1E_hardware_ortho_0.01_45.json\n",
      "Using precomputed counts from data/1128_part_1_lstm_quantinuum_H1-1E_hardware_ortho_0.01_46.json\n",
      "Using precomputed counts from data/1128_part_1_lstm_quantinuum_H1-1E_hardware_ortho_0.01_47.json\n",
      "Using precomputed counts from data/1128_part_1_lstm_quantinuum_H1-1E_hardware_ortho_0.01_48.json\n",
      "Using precomputed counts from data/1128_part_1_lstm_quantinuum_H1-1E_hardware_ortho_0.01_49.json\n",
      "Using precomputed counts from data/1128_part_1_lstm_quantinuum_H1-1E_hardware_ortho_0.01_50.json\n",
      "Using precomputed counts from data/1128_part_1_lstm_quantinuum_H1-1E_hardware_ortho_0.01_51.json\n",
      "Using precomputed counts from data/1128_part_1_lstm_quantinuum_H1-1E_hardware_ortho_0.01_52.json\n",
      "Using precomputed counts from data/1128_part_1_lstm_quantinuum_H1-1E_hardware_ortho_0.01_53.json\n",
      "Using precomputed counts from data/1128_part_1_lstm_quantinuum_H1-1E_hardware_ortho_0.01_54.json\n",
      "Using precomputed counts from data/1128_part_1_lstm_quantinuum_H1-1E_hardware_ortho_0.01_55.json\n",
      "Using precomputed counts from data/1128_part_1_lstm_quantinuum_H1-1E_hardware_ortho_0.01_56.json\n",
      "Using precomputed counts from data/1128_part_1_lstm_quantinuum_H1-1E_hardware_ortho_0.01_57.json\n",
      "Using precomputed counts from data/1128_part_1_lstm_quantinuum_H1-1E_hardware_ortho_0.01_58.json\n",
      "Using precomputed counts from data/1128_part_1_lstm_quantinuum_H1-1E_hardware_ortho_0.01_59.json\n",
      "Using precomputed counts from data/1128_part_1_lstm_quantinuum_H1-1E_hardware_ortho_0.01_60.json\n",
      "Using precomputed counts from data/1128_part_1_lstm_quantinuum_H1-1E_hardware_ortho_0.01_61.json\n",
      "Using precomputed counts from data/1128_part_1_lstm_quantinuum_H1-1E_hardware_ortho_0.01_62.json\n",
      "Using precomputed counts from data/1128_part_1_lstm_quantinuum_H1-1E_hardware_ortho_0.01_63.json\n",
      "Using precomputed counts from data/1128_part_1_lstm_quantinuum_H1-1E_hardware_ortho_0.01_64.json\n",
      "Using precomputed counts from data/1128_part_1_lstm_quantinuum_H1-1E_hardware_ortho_0.01_65.json\n",
      "Using precomputed counts from data/1128_part_1_lstm_quantinuum_H1-1E_hardware_ortho_0.01_66.json\n",
      "Using precomputed counts from data/1128_part_1_lstm_quantinuum_H1-1E_hardware_ortho_0.01_67.json\n",
      "Using precomputed counts from data/1128_part_1_lstm_quantinuum_H1-1E_hardware_ortho_0.01_68.json\n",
      "Using precomputed counts from data/1128_part_1_lstm_quantinuum_H1-1E_hardware_ortho_0.01_69.json\n",
      "Using precomputed counts from data/1128_part_1_lstm_quantinuum_H1-1E_hardware_ortho_0.01_70.json\n",
      "Using precomputed counts from data/1128_part_1_lstm_quantinuum_H1-1E_hardware_ortho_0.01_71.json\n",
      "Using precomputed counts from data/1128_part_1_lstm_quantinuum_H1-1E_hardware_ortho_0.01_72.json\n",
      "Using precomputed counts from data/1128_part_1_lstm_quantinuum_H1-1E_hardware_ortho_0.01_73.json\n",
      "Using precomputed counts from data/1128_part_1_lstm_quantinuum_H1-1E_hardware_ortho_0.01_74.json\n",
      "Using precomputed counts from data/1128_part_1_lstm_quantinuum_H1-1E_hardware_ortho_0.01_75.json\n",
      "Using precomputed counts from data/1128_part_1_lstm_quantinuum_H1-1E_hardware_ortho_0.01_76.json\n",
      "Using precomputed counts from data/1128_part_1_lstm_quantinuum_H1-1E_hardware_ortho_0.01_77.json\n",
      "Using precomputed counts from data/1128_part_1_lstm_quantinuum_H1-1E_hardware_ortho_0.01_78.json\n",
      "Using precomputed counts from data/1128_part_1_lstm_quantinuum_H1-1E_hardware_ortho_0.01_79.json\n",
      "Using precomputed counts from data/1128_part_1_lstm_quantinuum_H1-1E_hardware_ortho_0.01_80.json\n",
      "Using precomputed counts from data/1128_part_1_lstm_quantinuum_H1-1E_hardware_ortho_0.01_81.json\n",
      "Using precomputed counts from data/1128_part_1_lstm_quantinuum_H1-1E_hardware_ortho_0.01_82.json\n",
      "Using precomputed counts from data/1128_part_1_lstm_quantinuum_H1-1E_hardware_ortho_0.01_83.json\n",
      "Using precomputed counts from data/1128_part_1_lstm_quantinuum_H1-1E_hardware_ortho_0.01_84.json\n",
      "Using precomputed counts from data/1128_part_1_lstm_quantinuum_H1-1E_hardware_ortho_0.01_85.json\n",
      "Using precomputed counts from data/1128_part_1_lstm_quantinuum_H1-1E_hardware_ortho_0.01_86.json\n",
      "Using precomputed counts from data/1128_part_1_lstm_quantinuum_H1-1E_hardware_ortho_0.01_87.json\n",
      "Using precomputed counts from data/1128_part_1_lstm_quantinuum_H1-1E_hardware_ortho_0.01_88.json\n",
      "Using precomputed counts from data/1128_part_1_lstm_quantinuum_H1-1E_hardware_ortho_0.01_89.json\n",
      "Using precomputed counts from data/1128_part_1_lstm_quantinuum_H1-1E_hardware_ortho_0.01_90.json\n",
      "Using precomputed counts from data/1128_part_1_lstm_quantinuum_H1-1E_hardware_ortho_0.01_91.json\n",
      "Using precomputed counts from data/1128_part_1_lstm_quantinuum_H1-1E_hardware_ortho_0.01_92.json\n",
      "Using precomputed counts from data/1128_part_1_lstm_quantinuum_H1-1E_hardware_ortho_0.01_93.json\n",
      "Using precomputed counts from data/1128_part_1_lstm_quantinuum_H1-1E_hardware_ortho_0.01_94.json\n",
      "Using precomputed counts from data/1128_part_1_lstm_quantinuum_H1-1E_hardware_ortho_0.01_95.json\n",
      "Using precomputed counts from data/1128_part_1_lstm_quantinuum_H1-1E_hardware_ortho_0.01_96.json\n",
      "Using precomputed counts from data/1128_part_1_lstm_quantinuum_H1-1E_hardware_ortho_0.01_97.json\n",
      "Using precomputed counts from data/1128_part_1_lstm_quantinuum_H1-1E_hardware_ortho_0.01_98.json\n",
      "Using precomputed counts from data/1128_part_1_lstm_quantinuum_H1-1E_hardware_ortho_0.01_99.json\n",
      "Using precomputed counts from data/1128_part_1_lstm_quantinuum_H1-1E_hardware_ortho_0.01_100.json\n",
      "Using precomputed counts from data/1128_part_1_lstm_quantinuum_H1-1E_hardware_ortho_0.01_101.json\n",
      "Using precomputed counts from data/1128_part_1_lstm_quantinuum_H1-1E_hardware_ortho_0.01_102.json\n",
      "Using precomputed counts from data/1128_part_1_lstm_quantinuum_H1-1E_hardware_ortho_0.01_103.json\n",
      "Using precomputed counts from data/1128_part_1_lstm_quantinuum_H1-1E_hardware_ortho_0.01_104.json\n",
      "Using precomputed counts from data/1128_part_1_lstm_quantinuum_H1-1E_hardware_ortho_0.01_105.json\n",
      "Using precomputed counts from data/1128_part_1_lstm_quantinuum_H1-1E_hardware_ortho_0.01_106.json\n",
      "Using precomputed counts from data/1128_part_1_lstm_quantinuum_H1-1E_hardware_ortho_0.01_107.json\n",
      "Using precomputed counts from data/1128_part_1_lstm_quantinuum_H1-1E_hardware_ortho_0.01_108.json\n",
      "Using precomputed counts from data/1128_part_1_lstm_quantinuum_H1-1E_hardware_ortho_0.01_109.json\n",
      "Using precomputed counts from data/1128_part_1_lstm_quantinuum_H1-1E_hardware_ortho_0.01_110.json\n",
      "Using precomputed counts from data/1128_part_1_lstm_quantinuum_H1-1E_hardware_ortho_0.01_111.json\n",
      "Using precomputed counts from data/1128_part_1_lstm_quantinuum_H1-1E_hardware_ortho_0.01_112.json\n",
      "Using precomputed counts from data/1128_part_1_lstm_quantinuum_H1-1E_hardware_ortho_0.01_113.json\n",
      "Using precomputed counts from data/1128_part_1_lstm_quantinuum_H1-1E_hardware_ortho_0.01_114.json\n",
      "Using precomputed counts from data/1128_part_1_lstm_quantinuum_H1-1E_hardware_ortho_0.01_115.json\n",
      "Using precomputed counts from data/1128_part_1_lstm_quantinuum_H1-1E_hardware_ortho_0.01_116.json\n",
      "Using precomputed counts from data/1128_part_1_lstm_quantinuum_H1-1E_hardware_ortho_0.01_117.json\n",
      "Using precomputed counts from data/1128_part_1_lstm_quantinuum_H1-1E_hardware_ortho_0.01_118.json\n",
      "Using precomputed counts from data/1128_part_1_lstm_quantinuum_H1-1E_hardware_ortho_0.01_119.json\n",
      "Model = lstm | Layer = hardware_ortho | EPS = 0.01| Loss = 4.866237640380859 | #circs = 0\n",
      "Using precomputed counts from data/1128_part_1_attention_quantinuum_H1-1E_hardware_ortho_0.01_0.json\n",
      "Using precomputed counts from data/1128_part_1_attention_quantinuum_H1-1E_hardware_ortho_0.01_1.json\n",
      "Using precomputed counts from data/1128_part_1_attention_quantinuum_H1-1E_hardware_ortho_0.01_2.json\n",
      "Model = attention | Layer = hardware_ortho | EPS = 0.01| Loss = 5.176102161407471 | #circs = 0\n"
     ]
    }
   ],
   "source": [
    "LAYERS = ['hardware_ortho']\n",
    "EPS = [  0.01]\n",
    "MODELS = ['simple','recurrent','lstm','attention']\n",
    "\n",
    "dhb = DeepHedgingBenchmark(key=key,eps=EPS, layers=LAYERS, models=MODELS)\n",
    "dhb.test(\n",
    "    test_batch,\n",
    "    backend_name='quantinuum_H1-1E',\n",
    "    device_id='1128_part_1',\n",
    "    params_dir='params/params_all_models_16_qubits_30_days.pkl'\n",
    "    )"
   ]
  },
  {
   "attachments": {},
   "cell_type": "markdown",
   "metadata": {},
   "source": [
    "# Hardware Backend "
   ]
  },
  {
   "attachments": {},
   "cell_type": "markdown",
   "metadata": {},
   "source": [
    "## Load Test Data"
   ]
  },
  {
   "cell_type": "code",
   "execution_count": 6,
   "metadata": {},
   "outputs": [],
   "source": [
    "# pickle.dump(test_batch, open('data/1115_test_batch_4_points.pickle', 'wb'))\n",
    "test_batch = pickle.load(open('data/1115_test_batch_4_points.pickle', 'rb'))"
   ]
  },
  {
   "attachments": {},
   "cell_type": "markdown",
   "metadata": {},
   "source": [
    "### LSTM model"
   ]
  },
  {
   "attachments": {},
   "cell_type": "markdown",
   "metadata": {},
   "source": [
    "Classical simulations results:\n",
    "5 days, 4 paths\n",
    "\n",
    "```\n",
    "Model = lstm | Layer = linear | EPS = 0.01| Loss = 2.1739442348480225 | #circs = 0\n",
    "Deltas = [[0.435 -0.002 -0.187 -0.182 -0.050 -0.014]\n",
    " [0.435 0.050 0.019 -0.001 -0.027 -0.476]\n",
    " [0.435 -0.015 -0.000 -0.085 -0.038 -0.296]\n",
    " [0.435 0.000 0.019 -0.001 -0.002 -0.451]]\n",
    "Terminal PnL = [-2.578 -1.225 -1.420 -2.671]\n",
    "Model = lstm | Layer = ortho | EPS = 0.01| Loss = 2.1762888431549072 | #circs = 0\n",
    "Deltas = [[0.435 0.001 -0.203 -0.165 -0.049 -0.019]\n",
    " [0.435 0.051 0.011 -0.006 -0.045 -0.447]\n",
    " [0.435 -0.013 0.004 -0.090 -0.025 -0.310]\n",
    " [0.435 0.000 0.010 0.001 -0.001 -0.446]]\n",
    "Terminal PnL = [-2.586 -1.194 -1.439 -2.671]\n",
    "Model = lstm | Layer = noisy_ortho | EPS = 0.01| Loss = 2.1889312267303467 | #circs = 0\n",
    "Deltas = [[0.437 0.004 -0.213 -0.158 -0.043 -0.027]\n",
    " [0.428 0.040 0.027 -0.009 -0.022 -0.463]\n",
    " [0.432 -0.019 0.000 -0.104 -0.018 -0.291]\n",
    " [0.435 -0.000 0.029 0.010 -0.001 -0.472]]\n",
    "Terminal PnL = [-2.620 -1.205 -1.435 -2.669]\n",
    "```"
   ]
  },
  {
   "cell_type": "code",
   "execution_count": 7,
   "metadata": {
    "id": "T-RtLEOMgIHt"
   },
   "outputs": [
    {
     "name": "stdout",
     "output_type": "stream",
     "text": [
      "Using precomputed counts from data/1115_device_lstm_quantinuum_H1-1_hardware_ortho_0.01_0.json\n",
      "Using precomputed counts from data/1115_device_lstm_quantinuum_H1-1_hardware_ortho_0.01_1.json\n",
      "Using precomputed counts from data/1115_device_lstm_quantinuum_H1-1_hardware_ortho_0.01_2.json\n",
      "Using precomputed counts from data/1115_device_lstm_quantinuum_H1-1_hardware_ortho_0.01_3.json\n",
      "Using precomputed counts from data/1115_device_lstm_quantinuum_H1-1_hardware_ortho_0.01_4.json\n",
      "Using precomputed counts from data/1115_device_lstm_quantinuum_H1-1_hardware_ortho_0.01_5.json\n",
      "Using precomputed counts from data/1115_device_lstm_quantinuum_H1-1_hardware_ortho_0.01_6.json\n",
      "Using precomputed counts from data/1115_device_lstm_quantinuum_H1-1_hardware_ortho_0.01_7.json\n",
      "Using precomputed counts from data/1115_device_lstm_quantinuum_H1-1_hardware_ortho_0.01_8.json\n",
      "Using precomputed counts from data/1115_device_lstm_quantinuum_H1-1_hardware_ortho_0.01_9.json\n",
      "Using precomputed counts from data/1115_device_lstm_quantinuum_H1-1_hardware_ortho_0.01_10.json\n",
      "Using precomputed counts from data/1115_device_lstm_quantinuum_H1-1_hardware_ortho_0.01_11.json\n",
      "Using precomputed counts from data/1115_device_lstm_quantinuum_H1-1_hardware_ortho_0.01_12.json\n",
      "Using precomputed counts from data/1115_device_lstm_quantinuum_H1-1_hardware_ortho_0.01_13.json\n",
      "Using precomputed counts from data/1115_device_lstm_quantinuum_H1-1_hardware_ortho_0.01_14.json\n",
      "Using precomputed counts from data/1115_device_lstm_quantinuum_H1-1_hardware_ortho_0.01_15.json\n",
      "Using precomputed counts from data/1115_device_lstm_quantinuum_H1-1_hardware_ortho_0.01_16.json\n",
      "Using precomputed counts from data/1115_device_lstm_quantinuum_H1-1_hardware_ortho_0.01_17.json\n",
      "Using precomputed counts from data/1115_device_lstm_quantinuum_H1-1_hardware_ortho_0.01_18.json\n",
      "Using precomputed counts from data/1115_device_lstm_quantinuum_H1-1_hardware_ortho_0.01_19.json\n",
      "Model = lstm | Layer = hardware_ortho | EPS = 0.01| Loss = 2.1947038173675537 | #circs = 0\n",
      "Deltas = [[0.439 -0.011 -0.186 -0.170 -0.047 -0.025]\n",
      " [0.436 0.043 0.037 0.003 -0.012 -0.506]\n",
      " [0.447 -0.003 0.007 -0.096 -0.011 -0.344]\n",
      " [0.435 0.004 0.038 0.007 -0.004 -0.481]]\n",
      "Terminal PnL = [-2.610 -1.284 -1.488 -2.658]\n"
     ]
    }
   ],
   "source": [
    "LAYERS = ['hardware_ortho']\n",
    "EPS = [  0.01]\n",
    "MODELS = ['lstm']\n",
    "\n",
    "dhb = DeepHedgingBenchmark(key=key,eps=EPS, layers=LAYERS, models=MODELS)\n",
    "dhb.test(\n",
    "    test_batch,\n",
    "    backend_name='quantinuum_H1-1',\n",
    "    device_id='1115_device',\n",
    "    params_dir='params/params_all_models_16_qubits_5_days.pkl'\n",
    "    )"
   ]
  },
  {
   "attachments": {},
   "cell_type": "markdown",
   "metadata": {},
   "source": [
    "### Attention Model"
   ]
  },
  {
   "attachments": {},
   "cell_type": "markdown",
   "metadata": {},
   "source": [
    "Non-emulator results:\n",
    "5 days, 4 paths\n",
    "\n",
    "```\n",
    "Model = attention | Layer = linear | EPS = 0.01| Loss = 2.167210817337036 | #circs = 0\n",
    "Deltas = [[0.429 0.001 -0.225 -0.121 -0.064 -0.020]\n",
    " [0.429 0.038 0.030 -0.001 -0.020 -0.475]\n",
    " [0.429 -0.007 -0.004 -0.092 -0.013 -0.312]\n",
    " [0.429 0.001 0.028 0.002 -0.000 -0.459]]\n",
    "Terminal PnL = [-2.563 -1.219 -1.411 -2.673]\n",
    "Model = attention | Layer = ortho | EPS = 0.01| Loss = 2.1953773498535156 | #circs = 0\n",
    "Deltas = [[0.423 0.000 -0.167 -0.142 -0.095 -0.019]\n",
    " [0.423 0.062 0.023 -0.006 -0.056 -0.446]\n",
    " [0.423 -0.016 -0.014 -0.104 -0.040 -0.250]\n",
    " [0.423 0.005 0.031 0.003 -0.001 -0.462]]\n",
    "Terminal PnL = [-2.639 -1.242 -1.388 -2.672]\n",
    "Model = attention | Layer = noisy_ortho | EPS = 0.01| Loss = 2.4901790618896484 | #circs = 0\n",
    "Deltas = [[0.435 -0.014 -0.083 -0.074 -0.051 -0.213]\n",
    " [0.413 0.095 0.015 -0.004 -0.130 -0.388]\n",
    " [0.426 -0.034 0.012 -0.111 -0.047 -0.246]\n",
    " [0.421 -0.010 0.029 0.012 0.004 -0.456]]\n",
    "Terminal PnL = [-3.225 -1.270 -1.442 -2.728]\n",
    "```"
   ]
  },
  {
   "cell_type": "code",
   "execution_count": 8,
   "metadata": {
    "id": "83HKjeblRioM"
   },
   "outputs": [
    {
     "name": "stdout",
     "output_type": "stream",
     "text": [
      "Using precomputed counts from data/1212_part1_2_attention_quantinuum_H1-1_hardware_ortho_0.01_0.json\n",
      "Using precomputed counts from data/1212_part1_2_attention_quantinuum_H1-1_hardware_ortho_0.01_1.json\n"
     ]
    }
   ],
   "source": [
    "LAYERS = ['hardware_ortho']\n",
    "EPS = [  0.01]\n",
    "MODELS = ['attention']\n",
    "\n",
    "dhb = DeepHedgingBenchmark(key=key,eps=EPS, layers=LAYERS, models=MODELS)\n",
    "dhb.test(\n",
    "    test_batch,\n",
    "    backend_name='quantinuum_H1-1',\n",
    "    device_id='1212_part1_2',\n",
    "    params_dir='params/params_all_models_16_qubits_5_days.pkl'\n",
    "    )"
   ]
  }
 ],
 "metadata": {
  "colab": {
   "collapsed_sections": [],
   "provenance": []
  },
  "kernelspec": {
   "display_name": "jpmc",
   "language": "python",
   "name": "python3"
  },
  "language_info": {
   "codemirror_mode": {
    "name": "ipython",
    "version": 3
   },
   "file_extension": ".py",
   "mimetype": "text/x-python",
   "name": "python",
   "nbconvert_exporter": "python",
   "pygments_lexer": "ipython3",
   "version": "3.10.10"
  },
  "vscode": {
   "interpreter": {
    "hash": "ad54ef31d854a95caa7f093c1b575c6633ad4c5ad56f723ed5e92cb8b22d7116"
   }
  }
 },
 "nbformat": 4,
 "nbformat_minor": 4
}
