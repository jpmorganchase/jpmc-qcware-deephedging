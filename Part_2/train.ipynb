{
 "cells": [
  {
   "attachments": {},
   "cell_type": "markdown",
   "metadata": {},
   "source": [
    "# Quantum Deep Hedging in Quantum Environments\n",
    "--------------"
   ]
  },
  {
   "attachments": {},
   "cell_type": "markdown",
   "metadata": {},
   "source": [
    "### Importing required packages\n"
   ]
  },
  {
   "cell_type": "code",
   "execution_count": 1,
   "metadata": {},
   "outputs": [],
   "source": [
    "import warnings\n",
    "from tqdm import tqdm\n",
    "\n",
    "warnings.filterwarnings(\"ignore\")"
   ]
  },
  {
   "attachments": {},
   "cell_type": "markdown",
   "metadata": {},
   "source": [
    "This notebook requirs the following packages:\n",
    "- `jax`: a numerical computing library that provides GPU acceleration and supports automatic differentiation.\n",
    "- `haiku`: a neural network library built on top of JAX that provides a more user-friendly API for defining neural networks.\n",
    "- `optax`: a library for implementing gradient-based optimization algorithms in JAX."
   ]
  },
  {
   "cell_type": "code",
   "execution_count": 2,
   "metadata": {},
   "outputs": [],
   "source": [
    "import numpy as np \n",
    "import haiku as hk \n",
    "import jax "
   ]
  },
  {
   "attachments": {},
   "cell_type": "markdown",
   "metadata": {},
   "source": [
    "### Importing source code \n",
    "The source code imported here is made of different functions used for Quantum Deep Hedging algorithm.\n",
    "- `env.py` contains Environment functions\n",
    "  - `compute_black_scholes_delta` computes the Black-Scholes delta for a given sequence of prices.\n",
    "  - `compute_prices` computes the stock prices at each day given the jump sequences and other parameters.\n",
    "  - `compute_rewards` computes the rewards given a sequence of prices and deltas.\n",
    "  - `compute_bounds` computes the bounds of R(t) for a given set of parameters.\n",
    "  - `compute_returns` computes the sequence of cumulative returns.\n",
    "  - `compute_utility` computes the utility of the sequence of rewards using exponential utility.\n",
    "- `quantum.py`contains functions to build quantum compound NNs\n",
    "  - `get_brick_idxs` computes the indices of the RBS gates for the Brick architecture and returns a nested list where each inner list contains pairs of indices indicating the RBS gates to be applied in parallel.\n",
    "  - `make_ortho_fn` creates a mapping between a set of parameters to an orthogonal matrix and returns it as a JAX function that maps a set of parameters to an orthogonal matrix.\n",
    "  - `compute_compound` computes the compound matrix given the orthogonal matrix (unary) and the order k.\n",
    "  - `decompose_state` decomposes a quantum state into a sum of weighted subspaces and their respective projections.\n",
    "- `agent.py`\n",
    "  - `make_train_nn` create a compound NN that use a batching tree during train\n",
    "  - `make_test_nn` create a compound NN that can takes as input any sequence of jumps\n",
    "  - `make_train` create agent trainers for the vanilla and actor-critic algorithms\n",
    "  - `make_test` create agent evaluators for trained quantum policies"
   ]
  },
  {
   "cell_type": "code",
   "execution_count": 3,
   "metadata": {},
   "outputs": [],
   "source": [
    "import source"
   ]
  },
  {
   "attachments": {},
   "cell_type": "markdown",
   "metadata": {},
   "source": [
    "### Experiment"
   ]
  },
  {
   "cell_type": "code",
   "execution_count": 4,
   "metadata": {},
   "outputs": [],
   "source": [
    "test_seq_jumps = source.utils.load_file(\"./data/hardware_seq_jumps.pkl\")\n",
    "\n",
    "def train_experiment(seed, train_steps, **hparams):\n",
    "    \"\"\" Train an agent for a given number of steps and save the best parameters.\"\"\"\n",
    "    init_step, train_step = source.agent.make_train(**hparams)\n",
    "    test_step = source.agent.make_test(**hparams)\n",
    "    np_random = np.random.RandomState(seed=seed)\n",
    "    rng_key = hk.PRNGSequence(np_random.randint(0, 2**32 - 1))\n",
    "    params, opt_state = init_step(next(rng_key))\n",
    "    best_utility, best_params = -np.inf, None \n",
    "    all_metrics, all_params = [], []\n",
    "    stop_exp = False\n",
    "\n",
    "    for it in tqdm(range(train_steps)):\n",
    "        # test step\n",
    "        ##### TODO: Remove this after debug\n",
    "        test_metrics = test_step(test_seq_jumps[:,:hparams['num_days']], params)\n",
    "        #test_metrics = test_step(test_seq_jumps, params)\n",
    "        test_metrics = jax.device_get(test_metrics)\n",
    "        test_metrics = jax.tree_map(float, test_metrics)\n",
    "        utility = test_metrics[f\"utility\"]\n",
    "        bs_utility = test_metrics[f\"bs_utility\"]\n",
    "        if utility > best_utility:\n",
    "            best_utility = utility\n",
    "            best_params = params\n",
    "        test_metrics[\"best\"] = best_utility\n",
    "        # train step\n",
    "        params, opt_state, train_metrics = train_step(\n",
    "            next(rng_key),\n",
    "            params,\n",
    "            opt_state,\n",
    "        )\n",
    "        train_metrics = jax.device_get(train_metrics)\n",
    "        train_metrics = jax.tree_map(float, train_metrics)\n",
    "        all_metrics.append((it, train_metrics, test_metrics))\n",
    "        all_params.append((it, params))\n",
    "        # stop if nan\n",
    "        for _, v in train_metrics.items():\n",
    "            if np.isnan(v):\n",
    "                stop_exp = True\n",
    "        if stop_exp:\n",
    "            break\n",
    "    return best_utility, bs_utility, best_params, all_metrics, all_params"
   ]
  },
  {
   "cell_type": "code",
   "execution_count": 5,
   "metadata": {},
   "outputs": [],
   "source": [
    "seed = 123\n",
    "train_steps = 10\n",
    "\n",
    "num_days = 5\n",
    "num_trading_days = 30\n",
    "initial_price = 100.0\n",
    "utility_lambda = 0.1\n",
    "mu = 0.0\n",
    "sigma = 0.2\n",
    "train_num_paths = 16\n",
    "utility_lambda = 0.1\n",
    "\n",
    "strike = 1.0\n",
    "cost_eps = 0.0\n",
    "\n",
    "critic_update = \"vanilla\"\n",
    "if critic_update == \"vanilla\":\n",
    "    model = \"vanilla\"\n",
    "    actor_opt = \"radam\"\n",
    "    actor_lr = 1E-3\n",
    "    critic_opt = None\n",
    "    critic_lr = None\n",
    "else:\n",
    "    model = \"actor_critic\"\n",
    "    actor_opt = \"radam\"\n",
    "    actor_lr = 1E-3\n",
    "    critic_opt = \"adam\"\n",
    "    critic_lr = 1E-2\n",
    "\n",
    "hparams = dict(\n",
    "    model=model,\n",
    "    num_days=num_days,\n",
    "    num_trading_days=num_trading_days,\n",
    "    mu=mu,\n",
    "    sigma=sigma,\n",
    "    initial_price=initial_price,\n",
    "    strike=strike,\n",
    "    cost_eps=cost_eps,\n",
    "    utility_lambda=utility_lambda,\n",
    "    train_num_paths=train_num_paths, \n",
    "    actor_opt=actor_opt,\n",
    "    actor_lr=actor_lr,\n",
    "    critic_update=critic_update,\n",
    "    critic_opt=critic_opt,\n",
    "    critic_lr=critic_lr,\n",
    ")\n"
   ]
  },
  {
   "cell_type": "code",
   "execution_count": 6,
   "metadata": {},
   "outputs": [
    {
     "name": "stderr",
     "output_type": "stream",
     "text": [
      "100%|██████████| 10/10 [00:16<00:00,  1.65s/it]\n"
     ]
    }
   ],
   "source": [
    "best_utility, bs_utility, best_params, all_metrics, all_params = train_experiment(seed=seed, train_steps=train_steps, **hparams)"
   ]
  },
  {
   "cell_type": "code",
   "execution_count": 7,
   "metadata": {},
   "outputs": [
    {
     "name": "stdout",
     "output_type": "stream",
     "text": [
      "best utility / black-scholes utility = -3.174/-3.422\n"
     ]
    }
   ],
   "source": [
    "print(f\"best utility / black-scholes utility = {best_utility:.3f}/{bs_utility:.3f}\")"
   ]
  },
  {
   "cell_type": "code",
   "execution_count": 8,
   "metadata": {},
   "outputs": [],
   "source": [
    "prefix = (\n",
    "    f\"{hparams['cost_eps']}_{hparams['strike']}_{hparams['critic_update']}_{seed}\"\n",
    ")\n",
    "source.utils.save_file(f\"./logs/{prefix}-best_params.pkl\", best_params)\n",
    "source.utils.save_file(f\"./logs/{prefix}-all_metrics.pkl\", all_metrics)\n",
    "source.utils.save_file(f\"./logs/{prefix}-all_params.pkl\", all_params)\n",
    "    \n"
   ]
  }
 ],
 "metadata": {
  "kernelspec": {
   "display_name": "venv",
   "language": "python",
   "name": "python3"
  },
  "language_info": {
   "codemirror_mode": {
    "name": "ipython",
    "version": 3
   },
   "file_extension": ".py",
   "mimetype": "text/x-python",
   "name": "python",
   "nbconvert_exporter": "python",
   "pygments_lexer": "ipython3",
   "version": "3.10.5"
  },
  "orig_nbformat": 4,
  "vscode": {
   "interpreter": {
    "hash": "f8d2648be5b31a2e55bf21bcbdd09185181fc7d7004b4d7e517cfed3b70d5b6c"
   }
  }
 },
 "nbformat": 4,
 "nbformat_minor": 2
}
