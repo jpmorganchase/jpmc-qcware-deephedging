{
 "cells": [
  {
   "cell_type": "code",
   "execution_count": 1,
   "metadata": {},
   "outputs": [],
   "source": [
    "import pickle \n",
    "import warnings\n",
    "\n",
    "import numpy as np\n",
    "import pandas as pd\n",
    "import source\n",
    "\n",
    "warnings.filterwarnings(\"ignore\")"
   ]
  },
  {
   "cell_type": "code",
   "execution_count": 2,
   "metadata": {},
   "outputs": [],
   "source": [
    "num_days = 10\n",
    "num_trading_days = 30\n",
    "initial_price = 100.0\n",
    "utility_lambda = 0.1\n",
    "mu = 0.0\n",
    "sigma = 0.2\n",
    "\n",
    "env_params = dict(\n",
    "    num_days=num_days,\n",
    "    num_trading_days=num_trading_days,\n",
    "    mu=mu,\n",
    "    sigma=sigma,\n",
    "    initial_price=initial_price,\n",
    "    utility_lambda=utility_lambda,\n",
    ")\n"
   ]
  },
  {
   "cell_type": "code",
   "execution_count": 3,
   "metadata": {},
   "outputs": [],
   "source": [
    "seq_jumps = pickle.load(open(\"./data/hardware_seq_jumps.pkl\", \"rb\"))\n",
    "\n",
    "np.set_printoptions(precision=3, suppress=True)\n",
    "df = pd.read_csv(\"params/runs.csv\")\n",
    "\n",
    "strike_vals = [0.95, 1.0, 1.05]\n",
    "cost_eps_vals = [0.0, 0.002]\n",
    "critic_udpate_vals = [\"vanilla\", \"expected\", \"distributional\"]\n",
    "\n",
    "res_columns = (\n",
    "    [\"critic_update\", \"seed\"]\n",
    "    + [\"utility\", \"bs_utility\"]\n",
    "    + [f\"PnL_{i}\" for i in range(seq_jumps.shape[0])]\n",
    ")\n",
    "\n",
    "for cost_eps in cost_eps_vals:\n",
    "    for strike in strike_vals:\n",
    "        res_df = pd.DataFrame(columns=res_columns)\n",
    "        for critic_udpate in critic_udpate_vals:\n",
    "            if critic_udpate == \"vanilla\":\n",
    "                model = \"vanilla\"\n",
    "            else:\n",
    "                model = \"actor_critic\"\n",
    "            df_sub = df[\n",
    "                (df[\"strike\"] == strike)\n",
    "                & (df[\"cost_eps\"] == cost_eps)\n",
    "                & (df[\"critic_update\"] == critic_udpate)\n",
    "            ]\n",
    "            hparams = dict(**env_params, strike=strike, cost_eps=cost_eps, model=model)\n",
    "            test_step = source.agent.make_test(**hparams)\n",
    "            seeds = df_sub[\"seed\"].values\n",
    "            for seed in seeds:\n",
    "                prefix = (\n",
    "                    f\"{hparams['cost_eps']}_{hparams['strike']}_{critic_udpate}_{seed}\"\n",
    "                )\n",
    "                best_params = pickle.load(open(f\"params/{prefix}-best_params.pkl\", \"rb\"))\n",
    "                test_metrics, other = test_step(seq_jumps, best_params)\n",
    "                res_dict = {\"critic_update\": critic_udpate, \"seed\": seed}\n",
    "                res_dict[\"utility\"] = float(test_metrics[\"utility\"])\n",
    "                res_dict[\"bs_utility\"] = float(test_metrics[\"bs_utility\"])\n",
    "                for i in range(seq_jumps.shape[0]):\n",
    "                    res_dict[f\"PnL_{i}\"] = float(other[f\"PnL_{i}\"])\n",
    "                res_df = res_df.append(res_dict, ignore_index=True)\n",
    "        res_df.to_csv(f\"results/results_{strike}_{cost_eps}.csv\")"
   ]
  },
  {
   "cell_type": "code",
   "execution_count": null,
   "metadata": {},
   "outputs": [
    {
     "name": "stdout",
     "output_type": "stream",
     "text": [
      "   black_scholes  vanilla  expected  distributional\n",
      "0         -7.514   -7.224    -7.301          -7.385\n",
      "1         -4.415   -4.064    -4.193          -3.875\n",
      "2         -2.768   -2.794    -2.633          -2.571\n",
      "   black_scholes  vanilla  expected  distributional\n",
      "0         -7.996   -7.468    -7.517          -7.656\n",
      "1         -4.836   -4.639    -4.668          -4.424\n",
      "2         -3.090   -3.067    -2.845          -2.791\n"
     ]
    }
   ],
   "source": [
    "table_columns = [\"black_scholes\", \"vanilla\", \"expected\", \"distributional\"]\n",
    "strike_vals = [0.95, 1.0, 1.05]\n",
    "cost_eps_vals = [0.0, 0.002]\n",
    "critic_udpate_vals = [\"vanilla\", \"expected\", \"distributional\"]\n",
    "\n",
    "for cost_eps in cost_eps_vals:\n",
    "    table_df = pd.DataFrame(columns=table_columns)\n",
    "    for strike in strike_vals:\n",
    "        res_df = pd.read_csv(f\"results/results_{strike}_{cost_eps}.csv\")\n",
    "        tb_dict = {}\n",
    "        bs = res_df[\"bs_utility\"].values[0]\n",
    "        tb_dict[\"black_scholes\"] = float(f\"{bs:.3f}\")\n",
    "        for critic_udpate in critic_udpate_vals:\n",
    "            best = max(\n",
    "                res_df[res_df[\"critic_update\"] == critic_udpate][\"utility\"].values\n",
    "            )\n",
    "            tb_dict[critic_udpate] = float(f\"{best:.3f}\")\n",
    "        table_df = table_df.append(tb_dict, ignore_index=True)\n",
    "    table_df.to_csv(f\"results/table_{cost_eps}.csv\")\n",
    "    print(table_df)\n"
   ]
  }
 ],
 "metadata": {
  "kernelspec": {
   "display_name": "venv",
   "language": "python",
   "name": "python3"
  },
  "language_info": {
   "codemirror_mode": {
    "name": "ipython",
    "version": 3
   },
   "file_extension": ".py",
   "mimetype": "text/x-python",
   "name": "python",
   "nbconvert_exporter": "python",
   "pygments_lexer": "ipython3",
   "version": "3.10.9"
  },
  "orig_nbformat": 4,
  "vscode": {
   "interpreter": {
    "hash": "f8d2648be5b31a2e55bf21bcbdd09185181fc7d7004b4d7e517cfed3b70d5b6c"
   }
  }
 },
 "nbformat": 4,
 "nbformat_minor": 2
}
