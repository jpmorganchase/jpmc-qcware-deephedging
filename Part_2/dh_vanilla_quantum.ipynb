{
  "nbformat": 4,
  "nbformat_minor": 0,
  "metadata": {
    "colab": {
      "provenance": []
    },
    "kernelspec": {
      "name": "python3",
      "display_name": "Python 3"
    },
    "language_info": {
      "name": "python"
    }
  },
  "cells": [
    {
      "cell_type": "code",
      "source": [
        "import matplotlib.pyplot as plt\n",
        "import sys\n",
        "from absl import app\n",
        "\n",
        "# Addresses `UnrecognizedFlagError: Unknown command line flag 'f'`\n",
        "sys.argv = sys.argv[:1]\n",
        "\n",
        "# `app.run` calls `sys.exit`\n",
        "try:\n",
        "  app.run(lambda argv: None)\n",
        "except:\n",
        "  pass\n",
        "%pip install dm-haiku\n",
        "%pip install optax"
      ],
      "metadata": {
        "colab": {
          "base_uri": "https://localhost:8080/"
        },
        "id": "p7CIXtruS1wE",
        "outputId": "a8507548-71e0-452f-a14d-ad24266ecc24"
      },
      "execution_count": null,
      "outputs": [
        {
          "output_type": "stream",
          "name": "stdout",
          "text": [
            "Looking in indexes: https://pypi.org/simple, https://us-python.pkg.dev/colab-wheels/public/simple/\n",
            "Collecting dm-haiku\n",
            "  Downloading dm_haiku-0.0.8-py3-none-any.whl (350 kB)\n",
            "\u001b[K     |████████████████████████████████| 350 kB 2.1 MB/s \n",
            "\u001b[?25hCollecting jmp>=0.0.2\n",
            "  Downloading jmp-0.0.2-py3-none-any.whl (16 kB)\n",
            "Requirement already satisfied: absl-py>=0.7.1 in /usr/local/lib/python3.7/dist-packages (from dm-haiku) (1.2.0)\n",
            "Requirement already satisfied: tabulate>=0.8.9 in /usr/local/lib/python3.7/dist-packages (from dm-haiku) (0.8.10)\n",
            "Requirement already satisfied: typing-extensions in /usr/local/lib/python3.7/dist-packages (from dm-haiku) (4.1.1)\n",
            "Requirement already satisfied: numpy>=1.18.0 in /usr/local/lib/python3.7/dist-packages (from dm-haiku) (1.21.6)\n",
            "Installing collected packages: jmp, dm-haiku\n",
            "Successfully installed dm-haiku-0.0.8 jmp-0.0.2\n",
            "Looking in indexes: https://pypi.org/simple, https://us-python.pkg.dev/colab-wheels/public/simple/\n",
            "Collecting optax\n",
            "  Downloading optax-0.1.3-py3-none-any.whl (145 kB)\n",
            "\u001b[K     |████████████████████████████████| 145 kB 2.1 MB/s \n",
            "\u001b[?25hRequirement already satisfied: absl-py>=0.7.1 in /usr/local/lib/python3.7/dist-packages (from optax) (1.2.0)\n",
            "Collecting chex>=0.0.4\n",
            "  Downloading chex-0.1.5-py3-none-any.whl (85 kB)\n",
            "\u001b[K     |████████████████████████████████| 85 kB 3.4 MB/s \n",
            "\u001b[?25hRequirement already satisfied: jax>=0.1.55 in /usr/local/lib/python3.7/dist-packages (from optax) (0.3.21)\n",
            "Requirement already satisfied: numpy>=1.18.0 in /usr/local/lib/python3.7/dist-packages (from optax) (1.21.6)\n",
            "Requirement already satisfied: jaxlib>=0.1.37 in /usr/local/lib/python3.7/dist-packages (from optax) (0.3.20+cuda11.cudnn805)\n",
            "Requirement already satisfied: typing-extensions>=3.10.0 in /usr/local/lib/python3.7/dist-packages (from optax) (4.1.1)\n",
            "Requirement already satisfied: toolz>=0.9.0 in /usr/local/lib/python3.7/dist-packages (from chex>=0.0.4->optax) (0.12.0)\n",
            "Requirement already satisfied: dm-tree>=0.1.5 in /usr/local/lib/python3.7/dist-packages (from chex>=0.0.4->optax) (0.1.7)\n",
            "Requirement already satisfied: opt-einsum in /usr/local/lib/python3.7/dist-packages (from jax>=0.1.55->optax) (3.3.0)\n",
            "Requirement already satisfied: scipy>=1.5 in /usr/local/lib/python3.7/dist-packages (from jax>=0.1.55->optax) (1.7.3)\n",
            "Requirement already satisfied: etils[epath] in /usr/local/lib/python3.7/dist-packages (from jax>=0.1.55->optax) (0.8.0)\n",
            "Requirement already satisfied: zipp in /usr/local/lib/python3.7/dist-packages (from etils[epath]->jax>=0.1.55->optax) (3.8.1)\n",
            "Requirement already satisfied: importlib_resources in /usr/local/lib/python3.7/dist-packages (from etils[epath]->jax>=0.1.55->optax) (5.9.0)\n",
            "Installing collected packages: chex, optax\n",
            "Successfully installed chex-0.1.5 optax-0.1.3\n"
          ]
        }
      ]
    },
    {
      "cell_type": "markdown",
      "source": [
        "## qnn"
      ],
      "metadata": {
        "id": "aS03ScTZT-Ae"
      }
    },
    {
      "cell_type": "code",
      "source": [
        "import functools\n",
        "from functools import partial\n",
        "import itertools\n",
        "from typing import (Callable, List, Mapping, NamedTuple, Optional, Sequence,\n",
        "                    Tuple, Union)\n",
        "\n",
        "import jax\n",
        "import numpy as np\n",
        "from jax import lax\n",
        "from jax import numpy as jnp\n",
        "\n",
        "# Typing\n",
        "# -----------------------------------------------------------------------------\n",
        "\n",
        "Array = jnp.ndarray\n",
        "Shape = Tuple[int, ...]\n",
        "Dtype = Union[jnp.float32, jnp.float64]\n",
        "PRNGKey = Array\n",
        "Params = Mapping[str, Mapping[str, jnp.ndarray]]\n",
        "InitializerFn = Callable[[PRNGKey, Shape, Dtype], Array]\n",
        "\n",
        "\n",
        "class ModuleFn(NamedTuple):\n",
        "    apply: Callable[..., Array]\n",
        "    shape: Optional[Callable[[Shape], Shape]]\n",
        "    init: Optional[Callable[..., Tuple[Params, Array]]] = None\n",
        "\n",
        "\n",
        "def add_scope_to_params(scope, params):\n",
        "    return dict((f\"{scope}/{key}\", array) for key, array in params.items())\n",
        "\n",
        "\n",
        "def get_params_by_scope(scope, params):\n",
        "    return dict((key[len(scope) + 1:], array) for key, array in params.items()\n",
        "                if key.startswith(scope + '/'))\n",
        "\n",
        "\n",
        "# Initializers\n",
        "# -----------------------------------------------------------------------------\n",
        "\n",
        "\n",
        "def constant(val: float, ) -> InitializerFn:\n",
        "    def init_fn(key, shape, dtype=jnp.float32):\n",
        "        return jnp.broadcast_to(val, shape).astype(dtype)\n",
        "\n",
        "    return init_fn\n",
        "\n",
        "\n",
        "def zeros() -> InitializerFn:\n",
        "    \"\"\" Initialize with zeros.\"\"\"\n",
        "    return constant(0.)\n",
        "\n",
        "\n",
        "def ones() -> InitializerFn:\n",
        "    \"\"\" Initialize with ones.\"\"\"\n",
        "    return constant(1.)\n",
        "\n",
        "\n",
        "def uniform(\n",
        "    minval: float = 0.,\n",
        "    maxval: float = 1.,\n",
        ") -> InitializerFn:\n",
        "    def init_fn(key, shape, dtype=jnp.float32):\n",
        "        return jax.random.uniform(key, shape, dtype, minval, maxval)\n",
        "\n",
        "    return init_fn\n",
        "\n",
        "\n",
        "def normal(\n",
        "    mean: float = 0.,\n",
        "    std: float = 1.,\n",
        ") -> InitializerFn:\n",
        "    def init_fn(key, shape, dtype=jnp.float32):\n",
        "        _mean = lax.convert_element_type(mean, dtype)\n",
        "        _std = lax.convert_element_type(std, dtype)\n",
        "        return _mean + _std * jax.random.normal(key, shape, dtype)\n",
        "\n",
        "    return init_fn\n",
        "\n",
        "\n",
        "def truncated_normal(\n",
        "    mean: float = 0.,\n",
        "    std: float = 1.,\n",
        ") -> InitializerFn:\n",
        "    def init_fn(key, shape, dtype=jnp.float32):\n",
        "        _mean = lax.convert_element_type(mean, dtype)\n",
        "        _std = lax.convert_element_type(std, dtype)\n",
        "        return _mean + _std * jax.random.truncated_normal(\n",
        "            key, -2., 2., shape, dtype)\n",
        "\n",
        "    return init_fn\n",
        "\n",
        "\n",
        "# Activations\n",
        "# -----------------------------------------------------------------------------\n",
        "\n",
        "\n",
        "def activation(activation_fn: Callable[[Array], Array], ) -> ModuleFn:\n",
        "    def shape_fn(inputs_shape):\n",
        "        return inputs_shape\n",
        "\n",
        "    def apply_fn(params, key, inputs, **kwargs):\n",
        "        return activation_fn(inputs)\n",
        "\n",
        "    return ModuleFn(apply_fn, shape_fn)\n",
        "\n",
        "\n",
        "relu = activation(jax.nn.relu)\n",
        "gelu = activation(jax.nn.gelu)\n",
        "selu = activation(jax.nn.selu)\n",
        "tanh = activation(jax.nn.tanh)\n",
        "square = activation(jnp.square)\n",
        "sigmoid = activation(jax.nn.sigmoid)\n",
        "log_softmax = activation(jax.nn.log_softmax)\n",
        "softmax = activation(jax.nn.softmax)\n",
        "\n",
        "\n",
        "def linear(\n",
        "    n_features: int,\n",
        "    with_bias: bool = True,\n",
        ") -> ModuleFn:\n",
        "    def apply_fn(params, key, inputs, **kwargs):\n",
        "        outputs = jnp.dot(inputs, params['w'])\n",
        "        if with_bias:\n",
        "            outputs += params['b']\n",
        "        return outputs\n",
        "\n",
        "    def init_fn(key, inputs_shape):\n",
        "        params = {}\n",
        "        key, w_key, b_key = jax.random.split(key, 3)\n",
        "        w_init = truncated_normal(std=1. / inputs_shape[-1])\n",
        "        w_shape = (inputs_shape[-1], n_features)\n",
        "        params['w'] = w_init(w_key, w_shape)\n",
        "        if with_bias:\n",
        "            b_init = zeros()\n",
        "            b_shape = (n_features, )\n",
        "            params['b'] = b_init(b_key, b_shape)\n",
        "        return params\n",
        "\n",
        "    def shape_fn(inputs_shape):\n",
        "        shape = inputs_shape[:-1] + (n_features, )\n",
        "        return shape\n",
        "\n",
        "    return ModuleFn(apply_fn, shape_fn, init=init_fn)\n",
        "\n",
        "\n",
        "def flatten() -> ModuleFn:\n",
        "    def apply_fn(params, key, inputs, **kwargs):\n",
        "        return jnp.reshape(inputs, (inputs.shape[0], -1))\n",
        "\n",
        "    def shape_fn(inputs_shape):\n",
        "        return (inputs_shape[0], np.prod(inputs_shape[1:]))\n",
        "\n",
        "    return ModuleFn(apply_fn, shape_fn)\n",
        "\n",
        "\n",
        "def sequential(*modules: List[ModuleFn], ) -> ModuleFn:\n",
        "    def apply_fn(params, key, inputs, **kwargs):\n",
        "        outputs = inputs\n",
        "        if key is not None:\n",
        "            keys = jax.random.split(key, len(modules))\n",
        "        else:\n",
        "            keys = len(modules) * [None]\n",
        "        for idx, module in enumerate(modules):\n",
        "            outputs = module.apply(\n",
        "                params['layer_{}'.format(idx)],\n",
        "                keys[idx],\n",
        "                outputs,\n",
        "                **kwargs,\n",
        "            )\n",
        "        return outputs\n",
        "\n",
        "    def init_fn(key, inputs_shape):\n",
        "        params = dict(\n",
        "            ('layer_{}'.format(idx), None) for idx in range(len(modules)))\n",
        "        keys = jax.random.split(key, len(modules))\n",
        "        shape = inputs_shape\n",
        "        for idx, module in enumerate(modules):\n",
        "            if module.init is not None:\n",
        "                module_params = module.init(keys[idx], shape)\n",
        "                params['layer_{}'.format(idx)] = module_params\n",
        "            shape = module.shape(shape)\n",
        "        return params\n",
        "\n",
        "    def shape_fn(inputs_shape):\n",
        "        shape = inputs_shape\n",
        "        for module in modules:\n",
        "            shape = module.shape(shape)\n",
        "        return shape\n",
        "\n",
        "    return ModuleFn(apply_fn, shape_fn, init=init_fn)\n",
        "\n",
        "\n",
        "def _make_orthogonal_fn(rbs_idxs, size):\n",
        "    num_thetas = sum(map(len, rbs_idxs))\n",
        "    rbs_idxs = [list(map(list, rbs_idx)) for rbs_idx in rbs_idxs]\n",
        "    len_idxs = np.cumsum([0] + list(map(len, rbs_idxs)))\n",
        "\n",
        "    def _get_rbs_unitary(theta):\n",
        "        cos_theta, sin_theta = jnp.cos(theta), jnp.sin(theta)\n",
        "        unitary = jnp.array([\n",
        "            [cos_theta, -sin_theta],\n",
        "            [sin_theta, cos_theta],\n",
        "        ])\n",
        "        unitary = unitary.transpose(*[*range(2, unitary.ndim), 0, 1])\n",
        "        return unitary\n",
        "\n",
        "    def _get_rbs_unitary_grad(theta):\n",
        "        cos_theta, sin_theta = jnp.cos(theta), jnp.sin(theta)\n",
        "        unitary = jnp.array([\n",
        "            [-sin_theta, -cos_theta],\n",
        "            [cos_theta, -sin_theta],\n",
        "        ])\n",
        "        unitary = unitary.transpose(*[*range(2, unitary.ndim), 0, 1])\n",
        "        return unitary\n",
        "\n",
        "    @jax.custom_jvp\n",
        "    def _get_parallel_rbs_unitary(thetas):\n",
        "        unitaries = []\n",
        "        for i, idxs in enumerate(rbs_idxs):\n",
        "            idxs = sum(idxs, [])\n",
        "            sub_thetas = thetas[len_idxs[i]:len_idxs[i + 1]]\n",
        "            rbs_blocks = _get_rbs_unitary(sub_thetas)\n",
        "            eye_block = jnp.eye(size - len(idxs), dtype=thetas.dtype)\n",
        "            permutation = idxs + [i for i in range(size) if i not in idxs]\n",
        "            permutation = np.argsort(permutation)\n",
        "            unitary = jax.scipy.linalg.block_diag(*rbs_blocks, eye_block)\n",
        "            unitary = unitary[permutation][:, permutation]\n",
        "            unitaries.append(unitary)\n",
        "        unitaries = jnp.stack(unitaries)\n",
        "        return unitaries\n",
        "\n",
        "    @_get_parallel_rbs_unitary.defjvp\n",
        "    def get_parallel_rbs_unitary_jvp(primals, tangents):\n",
        "        thetas, = primals\n",
        "        thetas_dot, = tangents\n",
        "        unitaries = []\n",
        "        unitaries_dot = []\n",
        "        for i, idxs in enumerate(rbs_idxs):\n",
        "            idxs = sum(idxs, [])\n",
        "            sub_thetas = thetas[len_idxs[i]:len_idxs[i + 1]]\n",
        "            sub_thetas_dot = thetas_dot[len_idxs[i]:len_idxs[i + 1]]\n",
        "            rbs_blocks = _get_rbs_unitary(sub_thetas)\n",
        "            rbs_blocks_grad = _get_rbs_unitary_grad(sub_thetas)\n",
        "            rbs_blocks_dot = sub_thetas_dot[..., None, None] * rbs_blocks_grad\n",
        "            eye_block = jnp.eye(size - len(idxs), dtype=thetas.dtype)\n",
        "            zero_block = jnp.zeros_like(eye_block)\n",
        "            permutation = idxs + [i for i in range(size) if i not in idxs]\n",
        "            permutation = np.argsort(permutation)\n",
        "            unitary = jax.scipy.linalg.block_diag(*rbs_blocks, eye_block)\n",
        "            unitary_dot = jax.scipy.linalg.block_diag(*rbs_blocks_dot,\n",
        "                                                      zero_block)\n",
        "            unitary = unitary[permutation][:, permutation]\n",
        "            unitary_dot = unitary_dot[permutation][:, permutation]\n",
        "            unitaries.append(unitary)\n",
        "            unitaries_dot.append(unitary_dot)\n",
        "        primal_out = jnp.stack(unitaries)\n",
        "        tangent_out = jnp.stack(unitaries_dot)\n",
        "        return primal_out, tangent_out\n",
        "\n",
        "    def orthogonal_fn(thetas, precision=None):\n",
        "        assert thetas.shape[0] == num_thetas, \"Wrong number of thetas.\"\n",
        "        unitaries = _get_parallel_rbs_unitary(thetas)\n",
        "        unitary = jnp.linalg.multi_dot(unitaries[::-1], precision=precision)\n",
        "        return unitary\n",
        "\n",
        "    return orthogonal_fn\n",
        "\n",
        "\n",
        "def _get_pyramid_idxs(num_inputs, num_outputs):\n",
        "    num_max = max(num_inputs, num_outputs)\n",
        "    num_min = min(num_inputs, num_outputs)\n",
        "    if num_max == num_min:\n",
        "        num_min -= 1\n",
        "    end_idxs = np.concatenate(\n",
        "        [np.arange(1, num_max - 1), num_max - np.arange(1, num_min + 1)])\n",
        "    start_idxs = np.concatenate([\n",
        "        np.arange(end_idxs.shape[0] + num_min - num_max) % 2,\n",
        "        np.arange(num_max - num_min)\n",
        "    ])\n",
        "    if num_inputs < num_outputs:\n",
        "        start_idxs = start_idxs[::-1]\n",
        "        end_idxs = end_idxs[::-1]\n",
        "    rbs_idxs = [\n",
        "        np.arange(start_idxs[i], end_idxs[i] + 1).reshape(-1, 2)\n",
        "        for i in range(len(start_idxs))\n",
        "    ]\n",
        "    return rbs_idxs\n",
        "\n",
        "\n",
        "def _get_butterfly_idxs(num_inputs, num_outputs):\n",
        "    def _get_butterfly_idxs(n):\n",
        "        if n == 2:\n",
        "            return np.array([[[0, 1]]])\n",
        "        else:\n",
        "            rbs_idxs = _get_butterfly_idxs(n // 2)\n",
        "            first = np.concatenate([rbs_idxs, rbs_idxs + n // 2], 1)\n",
        "            last = np.arange(n).reshape(1, 2, n // 2).transpose(0, 2, 1)\n",
        "            rbs_idxs = np.concatenate([first, last], 0)\n",
        "            return rbs_idxs\n",
        "\n",
        "    circuit_dim = int(2**np.ceil(np.log2(max(num_inputs, num_outputs))))\n",
        "    rbs_idxs = _get_butterfly_idxs(circuit_dim)\n",
        "    if num_inputs < num_outputs:\n",
        "        rbs_idxs = rbs_idxs[::-1]\n",
        "    return rbs_idxs\n",
        "\n",
        "\n",
        "def _get_triangle_idxs(num_inputs, num_outputs):\n",
        "    num_max = max(num_inputs, num_outputs)\n",
        "    num_min = min(num_inputs, num_outputs)\n",
        "    rbs_idxs = [[(i, i + 1)] for i in range(num_max - 1)\n",
        "                ] + [[(num_max - num_min + i, num_max - num_min + i + 1)]\n",
        "                     for i in range(num_min - 1 - 1)][::-1]\n",
        "    if num_inputs < num_outputs:\n",
        "        rbs_idxs = rbs_idxs[::-1]\n",
        "    return rbs_idxs\n",
        "\n",
        "\n",
        "def _get_iks_idxs(num_inputs, num_outputs):\n",
        "    num_max = max(num_inputs, num_outputs)\n",
        "    num_min = min(num_inputs, num_outputs)\n",
        "    rbs_idxs_down = [[(i, i + 1)] for i in range(num_max - 1)]\n",
        "    rbs_idxs_up = [[(num_max - num_min + i, num_max - num_min + i + 1)]\n",
        "                   for i in range(num_min - 1)][::-1]\n",
        "    rbs_idxs = [\n",
        "        (m + n if m != n else m) for m, n in zip(rbs_idxs_down, rbs_idxs_up)\n",
        "    ] + rbs_idxs_down[num_min - 1:]\n",
        "    if num_inputs < num_outputs:\n",
        "        rbs_idxs = rbs_idxs[::-1]\n",
        "    return rbs_idxs\n",
        "\n",
        "def _multi_kron(arrays, order, i, j):\n",
        "    if i == j:\n",
        "        return arrays[i]\n",
        "    else:\n",
        "        return jnp.kron(_multi_kron(arrays, order, i, order[i, j]),\n",
        "                        _multi_kron(arrays, order, order[i, j] + 1, j))\n",
        "\n",
        "\n",
        "def _tensordot_unitary(unitaries):\n",
        "    from jax._src.third_party.numpy.linalg import _multi_dot_matrix_chain_order\n",
        "    if len(unitaries) == 1:\n",
        "        unitary = unitaries[0]\n",
        "    elif len(unitaries) == 2:\n",
        "        unitary = jnp.kron(unitaries[0], unitaries[1])\n",
        "    else:\n",
        "        order = _multi_dot_matrix_chain_order(unitaries)\n",
        "        unitary = _multi_kron(unitaries, order, 0, len(unitaries) - 1)\n",
        "    return unitary\n",
        "\n",
        "def _make_general_orthogonal_fn(rbs_idxs, size):\n",
        "    num_thetas = sum(map(len, rbs_idxs))\n",
        "    rbs_idxs = [list(map(list, rbs_idx)) for rbs_idx in rbs_idxs]\n",
        "    len_idxs = np.cumsum([0] + list(map(len, rbs_idxs)))\n",
        "\n",
        "    def _get_rbs_unitary(theta):\n",
        "        \"\"\" Returns the unitary matrix for a single RBS gate. \"\"\"\n",
        "        cos_t, sin_t = jnp.cos(theta), jnp.sin(theta)\n",
        "        zeros = jnp.zeros_like(cos_t)\n",
        "        ones = jnp.ones_like(cos_t)\n",
        "        unitary = jnp.array([\n",
        "            [ones, zeros, zeros, zeros],\n",
        "            [zeros, cos_t, -sin_t, zeros],\n",
        "            [zeros, sin_t, cos_t, zeros],\n",
        "            [zeros, zeros, zeros, ones],\n",
        "        ])\n",
        "        unitary = unitary.transpose(*[*range(2, unitary.ndim), 0, 1])\n",
        "        return unitary\n",
        "\n",
        "    def _get_parallel_rbs_unitary(thetas):\n",
        "        \"\"\" Returns the unitary matrix for parallel RBS gates. \"\"\"\n",
        "        unitaries = []\n",
        "        num_qubits = size\n",
        "        map_qubits = [[0, 2**q] for q in range(num_qubits)]\n",
        "        for i, idxs in enumerate(rbs_idxs):\n",
        "            idxs = sum(idxs, [])\n",
        "            sub_thetas = thetas[len_idxs[i]:len_idxs[i + 1]]\n",
        "            rbs_blocks = _get_rbs_unitary(sub_thetas)\n",
        "            eye_block = jnp.eye(2**(size - len(idxs)), dtype=thetas.dtype)\n",
        "            unitary = _tensordot_unitary([*rbs_blocks, eye_block])\n",
        "            unitary_qubits = idxs + [\n",
        "                q for q in range(num_qubits) if q not in idxs\n",
        "            ]\n",
        "            permutation = np.argsort([\n",
        "                sum(binary)\n",
        "                for binary in itertools.product(*(map_qubits[q]\n",
        "                                                  for q in unitary_qubits))\n",
        "            ])\n",
        "            unitary = unitary[permutation][:, permutation]\n",
        "            unitaries.append(unitary)\n",
        "        unitaries = jnp.stack(unitaries)\n",
        "\n",
        "        return unitaries\n",
        "\n",
        "    def orthogonal_fn(thetas, precision=None):\n",
        "        \"\"\" Returns the unitary matrix for a sequence of parallel RBS gates. \"\"\"\n",
        "        assert thetas.shape[0] == num_thetas, \"Wrong number of thetas.\"\n",
        "        unitaries = _get_parallel_rbs_unitary(thetas)\n",
        "        unitary = jnp.linalg.multi_dot(unitaries[::-1], precision=precision)\n",
        "        return unitary\n",
        "\n",
        "    return orthogonal_fn\n",
        "    \n",
        "\n",
        "def rbs_fn(num_qubits):\n",
        "  rbs_idxs = _get_butterfly_idxs(num_qubits,num_qubits)\n",
        "  rbs_idxs = [list(map(list, rbs_idx)) for rbs_idx in rbs_idxs]\n",
        "  num_params = len(sum(rbs_idxs, []))\n",
        "  return rbs_idxs, num_params"
      ],
      "metadata": {
        "id": "f_TBfvcjT-67"
      },
      "execution_count": null,
      "outputs": []
    },
    {
      "cell_type": "markdown",
      "source": [
        "## Main"
      ],
      "metadata": {
        "id": "nFk4qob9T_lI"
      }
    },
    {
      "cell_type": "code",
      "execution_count": null,
      "metadata": {
        "id": "bDGmnkd-Syuf"
      },
      "outputs": [],
      "source": [
        "import haiku as hk \n",
        "from functools import partial\n",
        "def circuit_v0(seq_jumps):\n",
        "    num_days = seq_jumps.shape[-2]\n",
        "    \n",
        "    @jax.vmap \n",
        "    def encode(seq_jumps):\n",
        "        num_days, num_jumps = seq_jumps.shape\n",
        "        encodings = []\n",
        "        for time_step in range(num_days):\n",
        "            future_qubits = (num_days - time_step) * num_jumps\n",
        "            future = 1/np.sqrt(2**future_qubits) * jnp.ones((2**future_qubits,))\n",
        "            if time_step == 0:\n",
        "                encoding = future\n",
        "            else:\n",
        "                aux = seq_jumps[time_step].reshape(-1)\n",
        "                aux = jnp.concatenate((1-aux,aux),0)\n",
        "                if time_step ==1:\n",
        "                    past = aux \n",
        "                else:\n",
        "                    past = jnp.kron(past, aux)\n",
        "                encoding = jnp.kron(past, future)\n",
        "            encoding = jnp.kron(encoding, jnp.array([0.,1.,0.,0.]))\n",
        "            encodings.append(encoding)\n",
        "        encodings = jnp.stack(encodings,0)\n",
        "        return encodings\n",
        "    \n",
        "    def apply(seq_encodings):\n",
        "        rbs_idxs, num_params = rbs_fn(num_days+2)\n",
        "        seq_thetas = hk.get_parameter(\"thetas\", \n",
        "                                    shape=[num_days,num_params],\n",
        "                                    dtype=jnp.float32,\n",
        "                                    init=hk.initializers.RandomNormal(stddev=1.0/np.sqrt(len(rbs_idxs)), mean=0.0))\n",
        "        orthogonal_fn = _make_general_orthogonal_fn(rbs_idxs=rbs_idxs,size=num_days+2)\n",
        "        seq_unitaries = jax.vmap(orthogonal_fn)(seq_thetas)\n",
        "        seq_results = jnp.einsum(\"...tij,...tj->...ti\",seq_unitaries,seq_encodings)\n",
        "        seq_probs = jnp.abs(seq_results)**2\n",
        "        return seq_probs \n",
        "\n",
        "    supports = []\n",
        "    bits = list(itertools.product(*((num_days+2)*[(0,1)]))) \n",
        "    for time_step in range(num_days):\n",
        "        observables = []\n",
        "        for weight in range(time_step+1):\n",
        "            observable = jnp.zeros((2**(num_days+2),),dtype=jnp.float32)\n",
        "            for subspace in range(weight+1, (num_days-time_step+weight+1)+1):\n",
        "                permutations = [bit for bit in bits if sum(bit)==subspace]\n",
        "                idxs = jnp.array(permutations) @ 2**jnp.arange(num_days+2)\n",
        "                values = jnp.arange(len(idxs))/(len(idxs) - 1) \n",
        "                observable = observable.at[idxs].set(values)\n",
        "            observables.append(observable)\n",
        "        observables = jnp.stack(observables)\n",
        "        supports.append(observables)\n",
        "        \n",
        "    @jax.vmap\n",
        "    def project(seq_jumps):\n",
        "        seq_obs = []\n",
        "        for time_step in range(num_days):\n",
        "            if time_step == 0:\n",
        "                observable = supports[0]\n",
        "            else:\n",
        "                idx = seq_jumps[:time_step,0].sum()\n",
        "                observable = jax.lax.dynamic_index_in_dim(supports[time_step],jnp.int32(idx),0)\n",
        "            seq_obs.append(observable)\n",
        "        seq_obs = jnp.concatenate(seq_obs)\n",
        "        return seq_obs\n",
        "    \n",
        "    seq_encodings = encode(seq_jumps)\n",
        "    seq_probs = apply(seq_encodings)\n",
        "    seq_obs = project(seq_jumps)\n",
        "    seq_vals = jnp.einsum(\"...t,...t->...\",seq_probs,seq_obs)\n",
        "    return seq_vals"
      ]
    },
    {
      "cell_type": "code",
      "source": [
        "import collections\n",
        "import sys\n",
        "\n",
        "import haiku as hk\n",
        "import jax\n",
        "import jax.numpy as jnp\n",
        "import numpy as np\n",
        "import optax\n",
        "from absl import app, flags\n",
        "from tqdm import trange\n",
        "from scipy import stats\n",
        "import itertools \n",
        "\n",
        "def jumps_to_prices(jumps):\n",
        "    jumps = jumps.reshape(jumps.shape[0], FLAGS.num_days * FLAGS.num_jumps)\n",
        "    brownian = (jumps - FLAGS.bernoulli_p)  # mean 0\n",
        "    brownian /= np.sqrt(FLAGS.bernoulli_p *\n",
        "                        (1 - FLAGS.bernoulli_p))  # variance 1\n",
        "    brownian = jnp.cumsum(brownian, axis=1)  # cumulative sum\n",
        "    brownian /= np.sqrt(FLAGS.num_jumps * FLAGS.num_trading_days )  # standardize\n",
        "    brownian = brownian[:, FLAGS.num_jumps * np.arange(FLAGS.num_days)]\n",
        "    t = jnp.arange(1, 1 + FLAGS.num_days) / FLAGS.num_trading_days\n",
        "    log_prices = (FLAGS.mu - FLAGS.sigma**2/2) * t +  FLAGS.sigma * brownian\n",
        "    prices = jnp.exp(log_prices)\n",
        "    prices = jnp.concatenate((jnp.ones((prices.shape[0], 1)), prices), axis=1)\n",
        "    prices *= FLAGS.initial_price\n",
        "    return prices[..., None]\n",
        "\n",
        "def prices_to_BSdeltas(seq_prices):\n",
        "  seq_prices = seq_prices[:,:-1]\n",
        "  T = jnp.arange(1, FLAGS.num_days+1) / FLAGS.num_trading_days\n",
        "  T = jnp.repeat(jnp.flip(T[None,:]), seq_prices.shape[0],0)\n",
        "  d1 = jnp.divide(jnp.log(seq_prices[...,0]/FLAGS.strike_price)+ (FLAGS.mu + 0.5 * FLAGS.sigma **2)* T, FLAGS.sigma * jnp.sqrt(T))\n",
        "  seq_bs_deltas = (stats.norm.cdf(d1, 0.0, 1.0))[...,None]\n",
        "  seq_deltas = seq_bs_deltas\n",
        "  seq_actions = jnp.concatenate(\n",
        "            [seq_deltas[:, [0]], seq_deltas[:, 1:] - seq_deltas[:, :-1]],\n",
        "            axis=1) \n",
        "  return seq_deltas, seq_actions\n",
        "\n",
        "def build_actor_fn():\n",
        "    def actor_fn(seq_jumps):\n",
        "        seq_deltas = []\n",
        "        seq_prices = jumps_to_prices(seq_jumps)\n",
        "        for time_step in range(FLAGS.num_days):\n",
        "            features = seq_prices[:, :time_step]\n",
        "            features = features.reshape(features.shape[0], -1)\n",
        "            net = hk.nets.MLP(FLAGS.hidden_layers*[ FLAGS.hidden_units]+ [1])\n",
        "            deltas = 0.5 * (1 + jax.nn.tanh(net(features)))\n",
        "            seq_deltas.append(deltas)\n",
        "        seq_deltas = jnp.stack(seq_deltas, axis=1)\n",
        "        seq_actions = jnp.concatenate(\n",
        "            [seq_deltas[:, [0]], seq_deltas[:, 1:] - seq_deltas[:, :-1]],\n",
        "            axis=1)\n",
        "        return seq_deltas, seq_actions\n",
        "\n",
        "    return actor_fn\n",
        "\n",
        "def build_actor_quantum_fn():\n",
        "    def actor_fn(seq_jumps):\n",
        "        seq_deltas = circuit_v0(seq_jumps)\n",
        "        seq_deltas = seq_deltas[...,None]\n",
        "        seq_actions = jnp.concatenate(\n",
        "            [seq_deltas[:, [0]], seq_deltas[:, 1:] - seq_deltas[:, :-1]],\n",
        "            axis=1)\n",
        "        return seq_deltas, seq_actions\n",
        "\n",
        "    return actor_fn\n",
        "\n",
        "def build_critic_fn(activation_fn=None):\n",
        "    def critic_fn(seq_jumps, seq_deltas):\n",
        "        seq_values = []\n",
        "        seq_prices = jumps_to_prices(seq_jumps)\n",
        "        for time_step in range(FLAGS.num_days):\n",
        "            features = seq_prices[:, :time_step]\n",
        "            features = features.reshape(features.shape[0], -1)\n",
        "            net = hk.nets.MLP([FLAGS.hidden_units, FLAGS.hidden_units, 1])\n",
        "            if activation_fn:\n",
        "              values = activation_fn(net(features))\n",
        "            else:\n",
        "              values = net(features)\n",
        "            seq_values.append(values)\n",
        "        seq_values = jnp.stack(seq_values, axis=1)\n",
        "        return seq_values\n",
        "\n",
        "    return critic_fn\n",
        "\n",
        "def build_critic_quantum_fn():\n",
        "    def critic_fn(seq_jumps, seq_deltas):\n",
        "      seq_values = circuit_v0(seq_jumps)\n",
        "      seq_values = seq_values[...,None]\n",
        "      return seq_values\n",
        "    return critic_fn\n"
      ],
      "metadata": {
        "id": "plGCLQYlS6cP"
      },
      "execution_count": null,
      "outputs": []
    },
    {
      "cell_type": "code",
      "source": [
        "def dh_vanilla(model):\n",
        "  np_random = np.random.RandomState(seed=FLAGS.seed)\n",
        "  rng_key = hk.PRNGSequence(np_random.randint(0, sys.maxsize + 1))\n",
        "  if model == 'classical':\n",
        "      actor_fn = build_actor_fn()\n",
        "  elif model == 'quantum':\n",
        "      actor_fn = build_actor_quantum_fn()\n",
        "  actor_net = hk.transform(actor_fn)\n",
        "  actor_params = actor_net.init(\n",
        "      next(rng_key), jnp.ones((1, FLAGS.num_days, FLAGS.num_jumps)))\n",
        "  actor_opt = optax.radam(FLAGS.actor_lr)\n",
        "  actor_state = actor_opt.init(actor_params)\n",
        "  def actor_loss_fn(actor_params, key, seq_jumps):\n",
        "      seq_prices = jumps_to_prices(seq_jumps)\n",
        "      seq_deltas, seq_actions = actor_net.apply(actor_params, key,\n",
        "                                                seq_jumps)\n",
        "      seq_rewards = -(jnp.abs(seq_actions) * FLAGS.cost_eps +\n",
        "                      seq_actions) * seq_prices[:, :-1]\n",
        "      seq_returns = jnp.sum(seq_rewards[:, 1:], axis=1)\n",
        "      final_actions = -seq_deltas[:, -1]\n",
        "      final_rewards = -jnp.maximum(\n",
        "          seq_prices[:, -1] - FLAGS.strike_price,\n",
        "          0) - (jnp.abs(final_actions) * FLAGS.cost_eps +\n",
        "                final_actions) * seq_prices[:, -1]\n",
        "      seq_returns += final_rewards\n",
        "      loss = -(seq_rewards[0, 0] - jnp.log(\n",
        "          1 / FLAGS.lamda * jnp.exp(-FLAGS.lamda * seq_returns).mean()))\n",
        "      return loss.mean()\n",
        "\n",
        "  @jax.jit\n",
        "  def actor_train_step(actor_params, actor_state, key, seq_jumps):\n",
        "      loss, grad = jax.value_and_grad(actor_loss_fn)(actor_params, key,\n",
        "                                                      seq_jumps)\n",
        "      updates, actor_state = actor_opt.update(grad, actor_state,\n",
        "                                              actor_params)\n",
        "      actor_params = optax.apply_updates(actor_params, updates)\n",
        "      return actor_params, actor_state, loss\n",
        "  def eval_step(actor_params, key, seq_jumps):\n",
        "        shape = (FLAGS.num_eval_episodes, FLAGS.num_days, FLAGS.num_jumps)\n",
        "        seq_jumps = jax.random.bernoulli(jax.random.PRNGKey(123),\n",
        "                                        shape=shape,\n",
        "                                        p=FLAGS.bernoulli_p)\n",
        "        seq_prices = jumps_to_prices(seq_jumps)\n",
        "        seq_deltas, seq_actions = actor_net.apply(actor_params, key, seq_jumps)\n",
        "        seq_rewards = -(jnp.abs(seq_actions) * FLAGS.cost_eps +\n",
        "                        seq_actions) * seq_prices[:, :-1]\n",
        "        seq_returns = jnp.sum(seq_rewards[:, 1:], axis=1)\n",
        "        final_actions = -seq_deltas[:, -1]\n",
        "        final_rewards = -jnp.maximum(\n",
        "            seq_prices[:, -1] - FLAGS.strike_price,\n",
        "            0) - (jnp.abs(final_actions) * FLAGS.cost_eps +\n",
        "                  final_actions) * seq_prices[:, -1]\n",
        "        seq_returns += final_rewards\n",
        "        eval_returns = seq_rewards[0, 0] - jnp.log(\n",
        "            1 / FLAGS.lamda * jnp.exp(-FLAGS.lamda * seq_returns).mean())\n",
        "        return eval_returns\n",
        "  def eval_BS(seq_jumps):\n",
        "    seq_prices = jumps_to_prices(seq_jumps)\n",
        "    seq_deltas,seq_actions = prices_to_BSdeltas(seq_prices)\n",
        "    seq_rewards = -(jnp.abs(seq_actions) * FLAGS.cost_eps +\n",
        "                        seq_actions) * seq_prices[:, :-1]\n",
        "    seq_returns = jnp.sum(seq_rewards[:, 1:], axis=1)\n",
        "    final_actions = -seq_deltas[:, -1]\n",
        "    final_rewards = jnp.maximum(\n",
        "        seq_prices[:, -1] - FLAGS.strike_price,\n",
        "        0) - (jnp.abs(final_actions) * FLAGS.cost_eps +\n",
        "              final_actions) * seq_prices[:, -1]\n",
        "    seq_returns += final_rewards\n",
        "    eval_returns = seq_rewards[0, 0] - jnp.log(\n",
        "        1 / FLAGS.lamda * jnp.exp(-FLAGS.lamda * seq_returns).mean())\n",
        "    return eval_returns\n",
        "\n",
        "  plot_info = {}\n",
        "  plot_info['actor_loss'] = []\n",
        "  plot_info['utility'] = []\n",
        "  plot_info['BS utility'] = []\n",
        "  with trange(FLAGS.num_train_steps) as t:\n",
        "      for train_step in t:\n",
        "          # Train Actor\n",
        "          shape = (FLAGS.num_actor_episodes, FLAGS.num_days, FLAGS.num_jumps)\n",
        "          seq_jumps = jax.random.bernoulli(next(rng_key),\n",
        "                                          shape=shape,\n",
        "                                          p=FLAGS.bernoulli_p)\n",
        "          actor_params, actor_state, actor_loss = actor_train_step(\n",
        "              actor_params, actor_state, next(rng_key), seq_jumps)\n",
        "          # Evaluate\n",
        "          shape = (FLAGS.num_eval_episodes, FLAGS.num_days, FLAGS.num_jumps)\n",
        "          seq_jumps = jax.random.bernoulli(next(rng_key),\n",
        "                                          shape=shape,\n",
        "                                          p=FLAGS.bernoulli_p)\n",
        "          eval_returns = eval_step(actor_params, next(rng_key), seq_jumps)\n",
        "          BS_returns = eval_BS(seq_jumps)\n",
        "          plot_info['actor_loss'].append(actor_loss)\n",
        "          plot_info['utility'].append(eval_returns.mean())\n",
        "          plot_info['BS utility'].append(BS_returns.mean())\n",
        "          t.set_postfix(utility=eval_returns.mean(),BS_utility=BS_returns.mean(),actor_loss=actor_loss)\n",
        "  return plot_info\n"
      ],
      "metadata": {
        "id": "sDUs4ZrWTCz4"
      },
      "execution_count": null,
      "outputs": []
    },
    {
      "cell_type": "code",
      "source": [
        "FLAGS = flags.FLAGS\n",
        "# Delete all existing attributes in flag before defining any new\n",
        "for name in list(flags.FLAGS): \n",
        "      delattr(flags.FLAGS,name)\n",
        "flags.DEFINE_integer(\"seed\", 42, \"Random seed.\")\n",
        "flags.DEFINE_integer(\"num_days\", 4, \"Number of days per episode.\")\n",
        "flags.DEFINE_integer(\"num_trading_days\", 251, \"Number of trading days in year.\")\n",
        "flags.DEFINE_integer(\"num_jumps\", 1, \"Number jumps per day.\")\n",
        "flags.DEFINE_float(\"bernoulli_p\", 0.5, \"Bernoulli p of Wiener process.\")\n",
        "flags.DEFINE_float(\"mu\", 0., \"Drift of Wiener process.\")\n",
        "flags.DEFINE_float(\"sigma\", 0.2, \"Volatility of Wiener process.\")\n",
        "flags.DEFINE_float(\"initial_price\", 100., \"Initial price.\")\n",
        "flags.DEFINE_float(\"strike_price\", 100., \"Strike price.\")\n",
        "flags.DEFINE_float(\"lamda\", 0.1, \"Risk-measure factor.\")\n",
        "flags.DEFINE_float(\"cost_eps\", 0., \"Cost epsilon.\")\n",
        "flags.DEFINE_integer(\"num_train_steps\", 500, \"Number of train steps.\")\n",
        "flags.DEFINE_integer(\"num_actor_episodes\", 16, \"Number of actor episodes.\")\n",
        "flags.DEFINE_integer(\"num_eval_episodes\", 16, \"Number of eval episodes.\")\n",
        "flags.DEFINE_float(\"actor_lr\", 1, \"Actor learning rate.\")\n",
        "flags.DEFINE_integer(\"hidden_units\", 16, \"Number of hidden units.\")\n",
        "flags.DEFINE_integer(\"hidden_layers\", 2, \"Number of hidden layers.\")\n",
        "dh_quantum_vanilla_4_info = dh_vanilla(model='quantum')"
      ],
      "metadata": {
        "colab": {
          "base_uri": "https://localhost:8080/"
        },
        "id": "6v24BDYpTvv1",
        "outputId": "661ee02a-eadb-4ddc-f63d-794a1c485fcc"
      },
      "execution_count": null,
      "outputs": [
        {
          "output_type": "stream",
          "name": "stderr",
          "text": [
            "100%|██████████| 500/500 [04:35<00:00,  1.81it/s, BS_utility=-47.854233, actor_loss=4.77028, utility=-4.717611]\n"
          ]
        }
      ]
    },
    {
      "cell_type": "code",
      "source": [
        "dh_classical_vanilla_4_info['utility'][-1]"
      ],
      "metadata": {
        "colab": {
          "base_uri": "https://localhost:8080/"
        },
        "id": "RsbKeOeMYwjb",
        "outputId": "e3d59ad2-4e21-4471-f539-6409686e7bb9"
      },
      "execution_count": null,
      "outputs": [
        {
          "output_type": "execute_result",
          "data": {
            "text/plain": [
              "DeviceArray(-2.4091146, dtype=float32)"
            ]
          },
          "metadata": {},
          "execution_count": 143
        }
      ]
    },
    {
      "cell_type": "code",
      "source": [
        "plt.title('4 days no transaction costs')\n",
        "plt.xlabel('Steps')\n",
        "plt.ylabel('Utility')\n",
        "plt.plot(dh_classical_vanilla_4_info['utility'], label='classical')\n",
        "plt.plot(dh_quantum_vanilla_4_info['utility'],color='green', label='quantum')\n",
        "plt.grid()\n",
        "plt.legend()\n",
        "plt.savefig('policy_search_4.png', dpi=300)"
      ],
      "metadata": {
        "id": "QU2Xf-pdeSBS"
      },
      "execution_count": null,
      "outputs": []
    },
    {
      "cell_type": "code",
      "source": [
        "plt.title('6 days no transaction costs')\n",
        "plt.xlabel('Steps')\n",
        "plt.ylabel('Utility')\n",
        "plt.plot(dh_classical_vanilla_6_info['utility'], label='classical')\n",
        "plt.plot(dh_quantum_vanilla_6_info['utility'],color='green', label='quantum')\n",
        "plt.grid()\n",
        "plt.legend()\n",
        "plt.savefig('policy_search_6.png', dpi=300)"
      ],
      "metadata": {
        "colab": {
          "base_uri": "https://localhost:8080/",
          "height": 295
        },
        "id": "jUpEYU6JSeu9",
        "outputId": "b2bbe2af-0538-48bb-93e2-04950aeb26b8"
      },
      "execution_count": null,
      "outputs": [
        {
          "output_type": "display_data",
          "data": {
            "text/plain": [
              "<Figure size 432x288 with 1 Axes>"
            ],
            "image/png": "[encoded data removed]"
          },
          "metadata": {
            "needs_background": "light"
          }
        }
      ]
    },
    {
      "cell_type": "code",
      "source": [
        "FLAGS = flags.FLAGS\n",
        "# Delete all existing attributes in flag before defining any new\n",
        "for name in list(flags.FLAGS): \n",
        "      delattr(flags.FLAGS,name)\n",
        "flags.DEFINE_integer(\"seed\", 42, \"Random seed.\")\n",
        "flags.DEFINE_integer(\"num_days\", 6, \"Number of days per episode.\")\n",
        "flags.DEFINE_integer(\"num_trading_days\", 251, \"Number of trading days in year.\")\n",
        "flags.DEFINE_integer(\"num_jumps\", 1, \"Number jumps per day.\")\n",
        "flags.DEFINE_float(\"bernoulli_p\", 0.5, \"Bernoulli p of Wiener process.\")\n",
        "flags.DEFINE_float(\"mu\", 0., \"Drift of Wiener process.\")\n",
        "flags.DEFINE_float(\"sigma\", 0.2, \"Volatility of Wiener process.\")\n",
        "flags.DEFINE_float(\"initial_price\", 100., \"Initial price.\")\n",
        "flags.DEFINE_float(\"strike_price\", 100., \"Strike price.\")\n",
        "flags.DEFINE_float(\"lamda\", 0.1, \"Risk-measure factor.\")\n",
        "flags.DEFINE_float(\"cost_eps\", 0., \"Cost epsilon.\")\n",
        "flags.DEFINE_integer(\"num_train_steps\", 500, \"Number of train steps.\")\n",
        "flags.DEFINE_integer(\"num_actor_episodes\", 1, \"Number of actor episodes.\")\n",
        "flags.DEFINE_integer(\"num_eval_episodes\", 16, \"Number of eval episodes.\")\n",
        "flags.DEFINE_float(\"actor_lr\", 1, \"Actor learning rate.\")\n",
        "flags.DEFINE_integer(\"hidden_units\", 16, \"Number of hidden units.\")\n",
        "flags.DEFINE_integer(\"hidden_layers\", 2, \"Number of hidden layers.\")"
      ],
      "metadata": {
        "colab": {
          "base_uri": "https://localhost:8080/"
        },
        "id": "KI9iUhjIKt2u",
        "outputId": "6367279a-153b-4cef-ae06-862b70bbd875"
      },
      "execution_count": null,
      "outputs": [
        {
          "output_type": "execute_result",
          "data": {
            "text/plain": [
              "<absl.flags._flagvalues.FlagHolder at 0x7f84423b0a90>"
            ]
          },
          "metadata": {},
          "execution_count": 47
        }
      ]
    },
    {
      "cell_type": "code",
      "source": [
        "rng_key = hk.PRNGSequence(np_random.randint(0, sys.maxsize + 1))\n",
        "shape = (FLAGS.num_actor_episodes, FLAGS.num_days, FLAGS.num_jumps)\n",
        "seq_jumps = jax.random.bernoulli(next(rng_key),\n",
        "                                shape=shape,\n",
        "                                p=0.)"
      ],
      "metadata": {
        "id": "oUqNN6g7wdBz"
      },
      "execution_count": null,
      "outputs": []
    },
    {
      "cell_type": "code",
      "source": [
        "seq_jumps.shape"
      ],
      "metadata": {
        "colab": {
          "base_uri": "https://localhost:8080/"
        },
        "id": "XqAjvBFBwc2h",
        "outputId": "7504139a-ceb8-4475-f5c9-905974740ff1"
      },
      "execution_count": null,
      "outputs": [
        {
          "output_type": "execute_result",
          "data": {
            "text/plain": [
              "(1, 6, 1)"
            ]
          },
          "metadata": {},
          "execution_count": 54
        }
      ]
    },
    {
      "cell_type": "code",
      "source": [
        "seq_jumps"
      ],
      "metadata": {
        "colab": {
          "base_uri": "https://localhost:8080/"
        },
        "id": "Ac-7eSHAw28Z",
        "outputId": "dbc18731-44fb-4b95-b0b3-ad91391d6b21"
      },
      "execution_count": null,
      "outputs": [
        {
          "output_type": "execute_result",
          "data": {
            "text/plain": [
              "DeviceArray([[[ True],\n",
              "              [ True],\n",
              "              [ True],\n",
              "              [ True],\n",
              "              [ True],\n",
              "              [ True]]], dtype=bool)"
            ]
          },
          "metadata": {},
          "execution_count": 50
        }
      ]
    },
    {
      "cell_type": "code",
      "source": [
        "seq_prices_max = jumps_to_prices(seq_jumps)"
      ],
      "metadata": {
        "id": "Jjfi76IZxArK"
      },
      "execution_count": null,
      "outputs": []
    },
    {
      "cell_type": "code",
      "source": [
        "seq_prices_max"
      ],
      "metadata": {
        "colab": {
          "base_uri": "https://localhost:8080/"
        },
        "id": "iw1AS2oHxF2R",
        "outputId": "a0f5ccad-266c-4542-8fe8-1cde42514895"
      },
      "execution_count": null,
      "outputs": [
        {
          "output_type": "execute_result",
          "data": {
            "text/plain": [
              "DeviceArray([[[100.      ],\n",
              "              [101.26232 ],\n",
              "              [102.54057 ],\n",
              "              [103.83498 ],\n",
              "              [105.145706],\n",
              "              [106.472984],\n",
              "              [107.81701 ]]], dtype=float32)"
            ]
          },
          "metadata": {},
          "execution_count": 52
        }
      ]
    },
    {
      "cell_type": "code",
      "source": [
        "seq_prices_min = jumps_to_prices(seq_jumps)"
      ],
      "metadata": {
        "id": "9brrxkJzxMzF"
      },
      "execution_count": null,
      "outputs": []
    },
    {
      "cell_type": "code",
      "source": [
        "seq_prices_min"
      ],
      "metadata": {
        "id": "HnX0Ul9bxQnU",
        "outputId": "0b5c9343-8783-4e1e-c707-44a9175dee75",
        "colab": {
          "base_uri": "https://localhost:8080/"
        }
      },
      "execution_count": null,
      "outputs": [
        {
          "output_type": "execute_result",
          "data": {
            "text/plain": [
              "DeviceArray([[[100.      ],\n",
              "              [ 98.73768 ],\n",
              "              [ 97.49129 ],\n",
              "              [ 96.260635],\n",
              "              [ 95.04552 ],\n",
              "              [ 93.84573 ],\n",
              "              [ 92.6611  ]]], dtype=float32)"
            ]
          },
          "metadata": {},
          "execution_count": 56
        }
      ]
    },
    {
      "cell_type": "code",
      "source": [
        "prices_max = seq_prices_max.reshape(-1)\n",
        "prices_min = seq_prices_min.reshape(-1)"
      ],
      "metadata": {
        "id": "ske8wCcRKM-F"
      },
      "execution_count": null,
      "outputs": []
    },
    {
      "cell_type": "code",
      "source": [
        "prices_max - FLAGS.strike_price"
      ],
      "metadata": {
        "colab": {
          "base_uri": "https://localhost:8080/"
        },
        "id": "hhynpZNpLMcc",
        "outputId": "bd357355-0c20-458e-82bb-203f2105ae00"
      },
      "execution_count": null,
      "outputs": [
        {
          "output_type": "execute_result",
          "data": {
            "text/plain": [
              "DeviceArray([0.       , 1.2623215, 2.5405731, 3.8349762, 5.145706 ,\n",
              "             6.4729843, 7.817009 ], dtype=float32)"
            ]
          },
          "metadata": {},
          "execution_count": 63
        }
      ]
    },
    {
      "cell_type": "code",
      "source": [
        "prices_min - FLAGS.strike_price"
      ],
      "metadata": {
        "colab": {
          "base_uri": "https://localhost:8080/"
        },
        "id": "59pvtHXxLSV4",
        "outputId": "af3cb103-470a-4f7f-bf96-4884dcaa7439"
      },
      "execution_count": null,
      "outputs": [
        {
          "output_type": "execute_result",
          "data": {
            "text/plain": [
              "DeviceArray([ 0.       , -1.2623215, -2.5087128, -3.7393646, -4.954483 ,\n",
              "             -6.1542664, -7.3388977], dtype=float32)"
            ]
          },
          "metadata": {},
          "execution_count": 62
        }
      ]
    },
    {
      "cell_type": "code",
      "source": [
        "max_payoffs = -jnp.maximum(prices_max-FLAGS.strike_price,0)\n",
        "max_payoffs"
      ],
      "metadata": {
        "colab": {
          "base_uri": "https://localhost:8080/"
        },
        "id": "wujx7mtXLUN3",
        "outputId": "d06d66be-8af3-40df-8792-de2c4464eb5f"
      },
      "execution_count": null,
      "outputs": [
        {
          "output_type": "execute_result",
          "data": {
            "text/plain": [
              "DeviceArray([-0.       , -1.2623215, -2.5405731, -3.8349762, -5.145706 ,\n",
              "             -6.4729843, -7.817009 ], dtype=float32)"
            ]
          },
          "metadata": {},
          "execution_count": 66
        }
      ]
    },
    {
      "cell_type": "code",
      "source": [
        "values_max = (2*(prices_max - FLAGS.strike_price))[::-1][:-1]\n",
        "values_max"
      ],
      "metadata": {
        "colab": {
          "base_uri": "https://localhost:8080/"
        },
        "id": "-d2NuiO0MGW7",
        "outputId": "a1c66ed6-14b8-49c8-ffbc-626c39be09e5"
      },
      "execution_count": null,
      "outputs": [
        {
          "output_type": "execute_result",
          "data": {
            "text/plain": [
              "DeviceArray([15.634018 , 12.945969 , 10.291412 ,  7.6699524,  5.0811462,\n",
              "              2.524643 ], dtype=float32)"
            ]
          },
          "metadata": {},
          "execution_count": 69
        }
      ]
    },
    {
      "cell_type": "code",
      "source": [
        "values_min = (2*(prices_min - FLAGS.strike_price) + max_payoffs)[::-1][:-1]\n",
        "values_min"
      ],
      "metadata": {
        "colab": {
          "base_uri": "https://localhost:8080/"
        },
        "id": "y-6XO8pPMZbX",
        "outputId": "61549c9d-58fd-4255-d45c-1e25447b6f50"
      },
      "execution_count": null,
      "outputs": [
        {
          "output_type": "execute_result",
          "data": {
            "text/plain": [
              "DeviceArray([-22.494804 , -18.781517 , -15.054672 , -11.313705 ,\n",
              "              -7.5579987,  -3.7869644], dtype=float32)"
            ]
          },
          "metadata": {},
          "execution_count": 67
        }
      ]
    },
    {
      "cell_type": "code",
      "source": [
        "values_range = jnp.stack( (values_min, values_max), axis=-1 )\n",
        "values_range"
      ],
      "metadata": {
        "colab": {
          "base_uri": "https://localhost:8080/"
        },
        "id": "9-RbTbTpMsRO",
        "outputId": "bd03f916-1be3-47e0-e7c3-26442c145022"
      },
      "execution_count": null,
      "outputs": [
        {
          "output_type": "execute_result",
          "data": {
            "text/plain": [
              "DeviceArray([[-22.494804 ,  15.634018 ],\n",
              "             [-18.781517 ,  12.945969 ],\n",
              "             [-15.054672 ,  10.291412 ],\n",
              "             [-11.313705 ,   7.6699524],\n",
              "             [ -7.5579987,   5.0811462],\n",
              "             [ -3.7869644,   2.524643 ]], dtype=float32)"
            ]
          },
          "metadata": {},
          "execution_count": 75
        }
      ]
    },
    {
      "cell_type": "code",
      "source": [
        "shape = (1, FLAGS.num_days, FLAGS.num_jumps)\n",
        "seq_jumps = jax.random.bernoulli(next(rng_key),\n",
        "                                shape=shape,\n",
        "                                p=1.)"
      ],
      "metadata": {
        "id": "HFQB1-2mNcCR"
      },
      "execution_count": null,
      "outputs": []
    },
    {
      "cell_type": "code",
      "source": [],
      "metadata": {
        "colab": {
          "base_uri": "https://localhost:8080/"
        },
        "id": "N7ENDVGyNdef",
        "outputId": "248e9c51-a57d-4f47-abfc-1d52f9511a96"
      },
      "execution_count": null,
      "outputs": [
        {
          "output_type": "execute_result",
          "data": {
            "text/plain": [
              "DeviceArray([[[False],\n",
              "              [False],\n",
              "              [False],\n",
              "              [False],\n",
              "              [False],\n",
              "              [False]]], dtype=bool)"
            ]
          },
          "metadata": {},
          "execution_count": 78
        }
      ]
    },
    {
      "cell_type": "code",
      "source": [
        "def values_range():\n",
        "  shape = (1, FLAGS.num_days, FLAGS.num_jumps)\n",
        "  seq_jumps = jax.random.bernoulli(next(rng_key),\n",
        "                                  shape=shape,\n",
        "                                  p=1.)\n",
        "  prices_max = jumps_to_prices(seq_jumps).reshape(-1)\n",
        "  prices_min = jumps_to_prices(~seq_jumps).reshape(-1)\n",
        "  payoffs_min = -jnp.maximum(prices_max-FLAGS.strike_price,0)\n",
        "  values_max =  (2*(prices_max - FLAGS.strike_price))[::-1][:-1]\n",
        "  values_min = (2*(prices_min - FLAGS.strike_price) + payoffs_min)[::-1][:-1]\n",
        "  Gt_range = jnp.stack((values_max, values_min), axis=-1)\n",
        "  values_range = jnp.exp(-FLAGS.lamda*Gt_range)\n",
        "  return values_range\n",
        "values_range()"
      ],
      "metadata": {
        "colab": {
          "base_uri": "https://localhost:8080/"
        },
        "id": "Hx7RWP9xNEbl",
        "outputId": "457cda6a-16e3-4bb4-edad-5eae0f8f9757"
      },
      "execution_count": null,
      "outputs": [
        {
          "output_type": "execute_result",
          "data": {
            "text/plain": [
              "DeviceArray([[0.20942244, 9.482808  ],\n",
              "             [0.2740083 , 6.541404  ],\n",
              "             [0.35731363, 4.506259  ],\n",
              "             [0.4644064 , 3.0999022 ],\n",
              "             [0.6016288 , 2.129314  ],\n",
              "             [0.77688396, 1.4603796 ]], dtype=float32)"
            ]
          },
          "metadata": {},
          "execution_count": 82
        }
      ]
    },
    {
      "cell_type": "code",
      "source": [
        "def dh_actor_critic_v0(critic_loss_version):\n",
        "  np_random = np.random.RandomState(seed=FLAGS.seed)\n",
        "  rng_key = hk.PRNGSequence(np_random.randint(0, sys.maxsize + 1))\n",
        "  actor_fn = build_actor_quantum_fn()\n",
        "  actor_net = hk.transform(actor_fn)\n",
        "  actor_params = actor_net.init(\n",
        "      next(rng_key), jnp.ones((1, FLAGS.num_days, FLAGS.num_jumps)))\n",
        "  actor_opt = optax.adamw(FLAGS.actor_lr)\n",
        "  actor_state = actor_opt.init(actor_params)\n",
        "  buffer = collections.deque(maxlen=FLAGS.num_buffer_episodes)\n",
        "  critic_fn = build_critic_quantum_fn()\n",
        "  critic_net = hk.transform(critic_fn)\n",
        "  critic_params = critic_net.init(\n",
        "      next(rng_key), jnp.ones((1, FLAGS.num_days, FLAGS.num_jumps)),\n",
        "      jnp.ones((1, FLAGS.num_days, 1)))\n",
        "  critic_opt = optax.adam(FLAGS.critic_lr)\n",
        "  critic_state = critic_opt.init(critic_params)\n",
        "\n",
        "  def critic_loss_fn(critic_params, key, seq_jumps,\n",
        "                      seq_deltas, seq_rewards, seq_returns):\n",
        "      critic_key, target_key = jax.random.split(key, 2)\n",
        "      seq_values = critic_net.apply(critic_params, critic_key, seq_jumps,\n",
        "                                    seq_deltas)\n",
        "      seq_targets = seq_returns\n",
        "      if critic_loss_version==0:\n",
        "          loss = (jnp.exp(-FLAGS.lamda * seq_targets)\n",
        "          - seq_values)**2\n",
        "      elif critic_loss_version==1:\n",
        "           loss = 1 / FLAGS.lamda * jnp.exp(\n",
        "          -FLAGS.lamda * (seq_targets - seq_values)) - seq_values\n",
        "      return loss.mean()\n",
        "\n",
        "  @jax.jit\n",
        "  def critic_train_step(critic_params, critic_state, key,\n",
        "                        seq_jumps, seq_deltas, seq_rewards, seq_returns):\n",
        "      loss, grad = jax.value_and_grad(critic_loss_fn)(\n",
        "          critic_params, key, seq_jumps, seq_deltas,\n",
        "          seq_rewards, seq_returns)\n",
        "      updates, critic_state = critic_opt.update(grad, critic_state,\n",
        "                                                critic_params)\n",
        "      critic_new_params = optax.apply_updates(critic_params, updates)\n",
        "      critic_params = jax.tree_util.tree_map(\n",
        "          lambda x, y: (1 - FLAGS.critic_tau) * x + FLAGS.critic_tau * y,\n",
        "          critic_new_params, critic_params)\n",
        "      return critic_params, critic_state, loss\n",
        "\n",
        "  def actor_loss_fn(actor_params, critic_params, key, seq_jumps):\n",
        "      critic_key, actor_key = jax.random.split(key, 2)\n",
        "      seq_deltas, seq_actions = actor_net.apply(actor_params, actor_key,\n",
        "                                                seq_jumps)\n",
        "      seq_values = critic_net.apply(critic_params, critic_key, seq_jumps,\n",
        "                                    seq_deltas)\n",
        "      seq_prices = jumps_to_prices(seq_jumps)\n",
        "      seq_rewards = -(jnp.abs(seq_actions) * FLAGS.cost_eps +\n",
        "                      seq_actions) * seq_prices[:, :-1]\n",
        "      final_actions = -seq_deltas[:, -1]\n",
        "      final_rewards = jnp.maximum(\n",
        "          seq_prices[:, -1] - FLAGS.strike_price,\n",
        "          0) - (jnp.abs(final_actions) * FLAGS.cost_eps +\n",
        "                final_actions) * seq_prices[:, -1]\n",
        "      seq_values = jnp.concatenate(\n",
        "          [seq_values[:, 1:], final_rewards[..., None]], axis=1)\n",
        "      # loss =  -(seq_rewards - jnp.log(\n",
        "      #     1 / FLAGS.lamda * seq_values))\n",
        "      # loss = 1 / FLAGS.lamda * jnp.exp(-FLAGS.lamda *\n",
        "      #                                   (seq_rewards + seq_values))\n",
        "      loss  = -(seq_rewards[0, 0] - 1/FLAGS.lamda* jnp.log( seq_values))\n",
        "      return loss.mean()\n",
        "\n",
        "  @jax.jit\n",
        "  def actor_train_step(actor_params, critic_params, actor_state, key,\n",
        "                        seq_jumps):\n",
        "      loss, grad = jax.value_and_grad(actor_loss_fn)(actor_params,\n",
        "                                                      critic_params, key,\n",
        "                                                      seq_jumps)\n",
        "      updates, actor_state = actor_opt.update(grad, actor_state,\n",
        "                                              actor_params)\n",
        "      actor_params = optax.apply_updates(actor_params, updates)\n",
        "      return actor_params, actor_state, loss\n",
        "\n",
        "  @jax.jit\n",
        "  def rollout_step(actor_params, key, seq_jumps):\n",
        "      seq_prices = jumps_to_prices(seq_jumps)\n",
        "      seq_deltas, seq_actions = actor_net.apply(actor_params, key,\n",
        "                                                seq_jumps)\n",
        "      seq_rewards = -(jnp.abs(seq_actions) * FLAGS.cost_eps +\n",
        "                      seq_actions) * seq_prices[:, :-1]\n",
        "      final_actions = -seq_deltas[:, -1]\n",
        "      final_rewards = jnp.maximum(\n",
        "          seq_prices[:, -1] - FLAGS.strike_price,\n",
        "          0) - (jnp.abs(final_actions) * FLAGS.cost_eps +\n",
        "                final_actions) * seq_prices[:, -1]\n",
        "      seq_next_rewards = jnp.concatenate(\n",
        "          [seq_rewards[:, 1:], final_rewards[..., None]], axis=1)\n",
        "      seq_returns = jnp.cumsum(seq_next_rewards[:, ::-1],\n",
        "                                axis=-1)[:, ::-1]\n",
        "      return seq_deltas, seq_actions, seq_rewards, seq_returns\n",
        "  def eval_step(actor_params, key, seq_jumps):\n",
        "      seq_prices = jumps_to_prices(seq_jumps)\n",
        "      seq_deltas, seq_actions = actor_net.apply(actor_params, key, seq_jumps)\n",
        "      seq_rewards = -(jnp.abs(seq_actions) * FLAGS.cost_eps +\n",
        "                      seq_actions) * seq_prices[:, :-1]\n",
        "      seq_returns = jnp.sum(seq_rewards[:, 1:], axis=1)\n",
        "      final_actions = -seq_deltas[:, -1]\n",
        "      final_rewards = jnp.maximum(\n",
        "          seq_prices[:, -1] - FLAGS.strike_price,\n",
        "          0) - (jnp.abs(final_actions) * FLAGS.cost_eps +\n",
        "                final_actions) * seq_prices[:, -1]\n",
        "      seq_returns += final_rewards\n",
        "      eval_returns = seq_rewards[0, 0] - jnp.log(\n",
        "          1 / FLAGS.lamda * jnp.exp(-FLAGS.lamda * seq_returns).mean())\n",
        "      return eval_returns\n",
        "  plot_info = {}\n",
        "  plot_info['utility'] = []\n",
        "  plot_info['actor_loss'] = []\n",
        "  plot_info['critic_loss'] = []\n",
        "  with trange(FLAGS.num_train_steps) as t:\n",
        "      for train_step in t:\n",
        "          # Rollout\n",
        "          shape = (FLAGS.num_rollout_episodes, FLAGS.num_days,\n",
        "                  FLAGS.num_jumps)\n",
        "          seq_jumps = jax.random.bernoulli(next(rng_key),\n",
        "                                          shape=shape,\n",
        "                                          p=FLAGS.bernoulli_p)\n",
        "          seq_deltas, seq_actions, seq_rewards, seq_returns = rollout_step(\n",
        "              actor_params, next(rng_key), seq_jumps)\n",
        "          for episode in range(FLAGS.num_rollout_episodes):\n",
        "              buffer.append(\n",
        "                  tuple(seq[episode] for seq in (seq_jumps, seq_deltas,\n",
        "                                                seq_rewards, seq_returns)))\n",
        "          # Train critic\n",
        "          critic_idxs = np_random.randint(0,\n",
        "                                          len(buffer),\n",
        "                                          size=FLAGS.num_critic_episodes)\n",
        "          critic_episodes = [buffer[idx] for idx in critic_idxs]\n",
        "          seq_jumps, seq_deltas, seq_rewards, seq_returns = (\n",
        "              jnp.asarray(seq) for seq in zip(*critic_episodes))\n",
        "          critic_params, critic_state, critic_loss = critic_train_step(\n",
        "              critic_params, critic_state, next(rng_key),\n",
        "              seq_jumps, seq_deltas, seq_rewards, seq_returns)\n",
        "\n",
        "          # Train actor\n",
        "          actor_idxs = np_random.randint(0,\n",
        "                                        len(buffer),\n",
        "                                        size=FLAGS.num_actor_episodes)\n",
        "          actor_episodes = [buffer[idx] for idx in actor_idxs]\n",
        "          seq_jumps, _, _, _ = (jnp.asarray(seq)\n",
        "                                for seq in zip(*actor_episodes))\n",
        "          actor_params, actor_state, actor_loss = actor_train_step(\n",
        "              actor_params, critic_params, actor_state, next(rng_key),\n",
        "              seq_jumps)\n",
        "\n",
        "          # Evaluate\n",
        "          shape = (FLAGS.num_eval_episodes, FLAGS.num_days, FLAGS.num_jumps)\n",
        "          seq_jumps = jax.random.bernoulli(next(rng_key),\n",
        "                                          shape=shape,\n",
        "                                          p=FLAGS.bernoulli_p)\n",
        "          eval_returns = eval_step(actor_params, next(rng_key), seq_jumps)\n",
        "          plot_info['utility'].append(eval_returns.mean())\n",
        "          plot_info['actor_loss'].append(actor_loss)\n",
        "          plot_info['critic_loss'].append(critic_loss)\n",
        "          t.set_postfix(utility=eval_returns.mean(), actor_loss=actor_loss,critic_loss=critic_loss)\n",
        "  return plot_info"
      ],
      "metadata": {
        "id": "o6tNy-jNffcb"
      },
      "execution_count": null,
      "outputs": []
    },
    {
      "cell_type": "code",
      "source": [
        "FLAGS = flags.FLAGS\n",
        "# Delete all existing attributes in flag before defining any new\n",
        "for name in list(flags.FLAGS): \n",
        "      delattr(flags.FLAGS,name)\n",
        "flags.DEFINE_integer(\"seed\", 42, \"Random seed.\")\n",
        "flags.DEFINE_integer(\"num_days\", 6, \"Number of days per episode.\")\n",
        "flags.DEFINE_integer(\"num_trading_days\", 251, \"Number of trading days in year.\")\n",
        "flags.DEFINE_integer(\"num_jumps\", 1, \"Number jumps per day.\")\n",
        "flags.DEFINE_float(\"bernoulli_p\", 0.5, \"Bernoulli p of Wiener process.\")\n",
        "flags.DEFINE_float(\"mu\", 0., \"Drift of Wiener process.\")\n",
        "flags.DEFINE_float(\"sigma\", 0.2, \"Volatility of Wiener process.\")\n",
        "flags.DEFINE_float(\"initial_price\", 100., \"Initial price.\")\n",
        "flags.DEFINE_float(\"strike_price\", 100., \"Strike price.\")\n",
        "flags.DEFINE_float(\"lamda\", 0.1, \"Risk-measure factor.\")\n",
        "flags.DEFINE_float(\"cost_eps\", 0., \"Cost epsilon.\")\n",
        "flags.DEFINE_integer(\"num_train_steps\", 4000, \"Number of train steps.\")\n",
        "flags.DEFINE_integer(\"num_actor_episodes\", 16, \"Number of actor episodes.\")\n",
        "flags.DEFINE_integer(\"num_eval_episodes\", 128, \"Number of eval episodes.\")\n",
        "flags.DEFINE_float(\"actor_lr\", 1E-3, \"Actor learning rate.\")\n",
        "flags.DEFINE_integer(\"hidden_units\", 16, \"Number of hidden units.\")\n",
        "\n",
        "flags.DEFINE_integer(\"num_buffer_episodes\", 64,\n",
        "                      \"Number of buffer episodes.\")\n",
        "flags.DEFINE_integer(\"num_critic_episodes\", 64,\n",
        "                      \"Number of critic episodes.\")\n",
        "flags.DEFINE_integer(\"num_rollout_episodes\", 64,\n",
        "                      \"Number of rollout episodes.\")\n",
        "flags.DEFINE_float(\"critic_lr\", 1E-4, \"Critic learning rate.\")\n",
        "flags.DEFINE_float(\"critic_tau\", 0.001, \"Critic target smoothing factor.\")\n",
        "FLAGS(sys.argv)\n",
        "actor_critic_quantum_info  = dh_actor_critic_v0(critic_loss_version=0)"
      ],
      "metadata": {
        "colab": {
          "base_uri": "https://localhost:8080/",
          "height": 380
        },
        "id": "40Na7t2Gi7fc",
        "outputId": "936b9164-3489-4ebd-bfeb-bd4eba5cba48"
      },
      "execution_count": null,
      "outputs": [
        {
          "output_type": "stream",
          "name": "stderr",
          "text": [
            " 23%|██▎       | 916/4000 [12:46<43:01,  1.19it/s, actor_loss=nan, critic_loss=nan, utility=nan]\n"
          ]
        },
        {
          "output_type": "error",
          "ename": "KeyboardInterrupt",
          "evalue": "ignored",
          "traceback": [
            "\u001b[0;31m---------------------------------------------------------------------------\u001b[0m",
            "\u001b[0;31mKeyboardInterrupt\u001b[0m                         Traceback (most recent call last)",
            "\u001b[0;32m<ipython-input-57-a3ff9a1b2f9a>\u001b[0m in \u001b[0;36m<module>\u001b[0;34m\u001b[0m\n\u001b[1;32m     29\u001b[0m \u001b[0mflags\u001b[0m\u001b[0;34m.\u001b[0m\u001b[0mDEFINE_float\u001b[0m\u001b[0;34m(\u001b[0m\u001b[0;34m\"critic_tau\"\u001b[0m\u001b[0;34m,\u001b[0m \u001b[0;36m0.001\u001b[0m\u001b[0;34m,\u001b[0m \u001b[0;34m\"Critic target smoothing factor.\"\u001b[0m\u001b[0;34m)\u001b[0m\u001b[0;34m\u001b[0m\u001b[0;34m\u001b[0m\u001b[0m\n\u001b[1;32m     30\u001b[0m \u001b[0mFLAGS\u001b[0m\u001b[0;34m(\u001b[0m\u001b[0msys\u001b[0m\u001b[0;34m.\u001b[0m\u001b[0margv\u001b[0m\u001b[0;34m)\u001b[0m\u001b[0;34m\u001b[0m\u001b[0;34m\u001b[0m\u001b[0m\n\u001b[0;32m---> 31\u001b[0;31m \u001b[0mactor_critic_quantum_info\u001b[0m  \u001b[0;34m=\u001b[0m \u001b[0mdh_actor_critic_v0\u001b[0m\u001b[0;34m(\u001b[0m\u001b[0mcritic_loss_version\u001b[0m\u001b[0;34m=\u001b[0m\u001b[0;36m0\u001b[0m\u001b[0;34m)\u001b[0m\u001b[0;34m\u001b[0m\u001b[0;34m\u001b[0m\u001b[0m\n\u001b[0m",
            "\u001b[0;32m<ipython-input-55-dc9d232123a9>\u001b[0m in \u001b[0;36mdh_actor_critic_v0\u001b[0;34m(critic_loss_version)\u001b[0m\n\u001b[1;32m    135\u001b[0m           \u001b[0mcritic_episodes\u001b[0m \u001b[0;34m=\u001b[0m \u001b[0;34m[\u001b[0m\u001b[0mbuffer\u001b[0m\u001b[0;34m[\u001b[0m\u001b[0midx\u001b[0m\u001b[0;34m]\u001b[0m \u001b[0;32mfor\u001b[0m \u001b[0midx\u001b[0m \u001b[0;32min\u001b[0m \u001b[0mcritic_idxs\u001b[0m\u001b[0;34m]\u001b[0m\u001b[0;34m\u001b[0m\u001b[0;34m\u001b[0m\u001b[0m\n\u001b[1;32m    136\u001b[0m           seq_jumps, seq_deltas, seq_rewards, seq_returns = (\n\u001b[0;32m--> 137\u001b[0;31m               jnp.asarray(seq) for seq in zip(*critic_episodes))\n\u001b[0m\u001b[1;32m    138\u001b[0m           critic_params, critic_state, critic_loss = critic_train_step(\n\u001b[1;32m    139\u001b[0m               \u001b[0mcritic_params\u001b[0m\u001b[0;34m,\u001b[0m \u001b[0mcritic_state\u001b[0m\u001b[0;34m,\u001b[0m \u001b[0mnext\u001b[0m\u001b[0;34m(\u001b[0m\u001b[0mrng_key\u001b[0m\u001b[0;34m)\u001b[0m\u001b[0;34m,\u001b[0m\u001b[0;34m\u001b[0m\u001b[0;34m\u001b[0m\u001b[0m\n",
            "\u001b[0;32m<ipython-input-55-dc9d232123a9>\u001b[0m in \u001b[0;36m<genexpr>\u001b[0;34m(.0)\u001b[0m\n\u001b[1;32m    135\u001b[0m           \u001b[0mcritic_episodes\u001b[0m \u001b[0;34m=\u001b[0m \u001b[0;34m[\u001b[0m\u001b[0mbuffer\u001b[0m\u001b[0;34m[\u001b[0m\u001b[0midx\u001b[0m\u001b[0;34m]\u001b[0m \u001b[0;32mfor\u001b[0m \u001b[0midx\u001b[0m \u001b[0;32min\u001b[0m \u001b[0mcritic_idxs\u001b[0m\u001b[0;34m]\u001b[0m\u001b[0;34m\u001b[0m\u001b[0;34m\u001b[0m\u001b[0m\n\u001b[1;32m    136\u001b[0m           seq_jumps, seq_deltas, seq_rewards, seq_returns = (\n\u001b[0;32m--> 137\u001b[0;31m               jnp.asarray(seq) for seq in zip(*critic_episodes))\n\u001b[0m\u001b[1;32m    138\u001b[0m           critic_params, critic_state, critic_loss = critic_train_step(\n\u001b[1;32m    139\u001b[0m               \u001b[0mcritic_params\u001b[0m\u001b[0;34m,\u001b[0m \u001b[0mcritic_state\u001b[0m\u001b[0;34m,\u001b[0m \u001b[0mnext\u001b[0m\u001b[0;34m(\u001b[0m\u001b[0mrng_key\u001b[0m\u001b[0;34m)\u001b[0m\u001b[0;34m,\u001b[0m\u001b[0;34m\u001b[0m\u001b[0;34m\u001b[0m\u001b[0m\n",
            "\u001b[0;32m/usr/local/lib/python3.7/dist-packages/jax/_src/numpy/lax_numpy.py\u001b[0m in \u001b[0;36masarray\u001b[0;34m(a, dtype, order)\u001b[0m\n\u001b[1;32m   1919\u001b[0m   \u001b[0mlax_internal\u001b[0m\u001b[0;34m.\u001b[0m\u001b[0m_check_user_dtype_supported\u001b[0m\u001b[0;34m(\u001b[0m\u001b[0mdtype\u001b[0m\u001b[0;34m,\u001b[0m \u001b[0;34m\"asarray\"\u001b[0m\u001b[0;34m)\u001b[0m\u001b[0;34m\u001b[0m\u001b[0;34m\u001b[0m\u001b[0m\n\u001b[1;32m   1920\u001b[0m   \u001b[0mdtype\u001b[0m \u001b[0;34m=\u001b[0m \u001b[0mdtypes\u001b[0m\u001b[0;34m.\u001b[0m\u001b[0mcanonicalize_dtype\u001b[0m\u001b[0;34m(\u001b[0m\u001b[0mdtype\u001b[0m\u001b[0;34m)\u001b[0m \u001b[0;32mif\u001b[0m \u001b[0mdtype\u001b[0m \u001b[0;32mis\u001b[0m \u001b[0;32mnot\u001b[0m \u001b[0;32mNone\u001b[0m \u001b[0;32melse\u001b[0m \u001b[0mdtype\u001b[0m\u001b[0;34m\u001b[0m\u001b[0;34m\u001b[0m\u001b[0m\n\u001b[0;32m-> 1921\u001b[0;31m   \u001b[0;32mreturn\u001b[0m \u001b[0marray\u001b[0m\u001b[0;34m(\u001b[0m\u001b[0ma\u001b[0m\u001b[0;34m,\u001b[0m \u001b[0mdtype\u001b[0m\u001b[0;34m=\u001b[0m\u001b[0mdtype\u001b[0m\u001b[0;34m,\u001b[0m \u001b[0mcopy\u001b[0m\u001b[0;34m=\u001b[0m\u001b[0;32mFalse\u001b[0m\u001b[0;34m,\u001b[0m \u001b[0morder\u001b[0m\u001b[0;34m=\u001b[0m\u001b[0morder\u001b[0m\u001b[0;34m)\u001b[0m\u001b[0;34m\u001b[0m\u001b[0;34m\u001b[0m\u001b[0m\n\u001b[0m\u001b[1;32m   1922\u001b[0m \u001b[0;34m\u001b[0m\u001b[0m\n\u001b[1;32m   1923\u001b[0m \u001b[0;34m\u001b[0m\u001b[0m\n",
            "\u001b[0;32m/usr/local/lib/python3.7/dist-packages/jax/_src/numpy/lax_numpy.py\u001b[0m in \u001b[0;36marray\u001b[0;34m(object, dtype, copy, order, ndmin)\u001b[0m\n\u001b[1;32m   1887\u001b[0m   \u001b[0;32melif\u001b[0m \u001b[0misinstance\u001b[0m\u001b[0;34m(\u001b[0m\u001b[0mobject\u001b[0m\u001b[0;34m,\u001b[0m \u001b[0;34m(\u001b[0m\u001b[0mlist\u001b[0m\u001b[0;34m,\u001b[0m \u001b[0mtuple\u001b[0m\u001b[0;34m)\u001b[0m\u001b[0;34m)\u001b[0m\u001b[0;34m:\u001b[0m\u001b[0;34m\u001b[0m\u001b[0;34m\u001b[0m\u001b[0m\n\u001b[1;32m   1888\u001b[0m     \u001b[0;32mif\u001b[0m \u001b[0mobject\u001b[0m\u001b[0;34m:\u001b[0m\u001b[0;34m\u001b[0m\u001b[0;34m\u001b[0m\u001b[0m\n\u001b[0;32m-> 1889\u001b[0;31m       \u001b[0mout\u001b[0m \u001b[0;34m=\u001b[0m \u001b[0mstack\u001b[0m\u001b[0;34m(\u001b[0m\u001b[0;34m[\u001b[0m\u001b[0masarray\u001b[0m\u001b[0;34m(\u001b[0m\u001b[0melt\u001b[0m\u001b[0;34m,\u001b[0m \u001b[0mdtype\u001b[0m\u001b[0;34m=\u001b[0m\u001b[0mdtype\u001b[0m\u001b[0;34m)\u001b[0m \u001b[0;32mfor\u001b[0m \u001b[0melt\u001b[0m \u001b[0;32min\u001b[0m \u001b[0mobject\u001b[0m\u001b[0;34m]\u001b[0m\u001b[0;34m)\u001b[0m\u001b[0;34m\u001b[0m\u001b[0;34m\u001b[0m\u001b[0m\n\u001b[0m\u001b[1;32m   1890\u001b[0m     \u001b[0;32melse\u001b[0m\u001b[0;34m:\u001b[0m\u001b[0;34m\u001b[0m\u001b[0;34m\u001b[0m\u001b[0m\n\u001b[1;32m   1891\u001b[0m       \u001b[0mout\u001b[0m \u001b[0;34m=\u001b[0m \u001b[0mnp\u001b[0m\u001b[0;34m.\u001b[0m\u001b[0marray\u001b[0m\u001b[0;34m(\u001b[0m\u001b[0;34m[\u001b[0m\u001b[0;34m]\u001b[0m\u001b[0;34m,\u001b[0m \u001b[0mdtype\u001b[0m\u001b[0;34m=\u001b[0m\u001b[0mdtype\u001b[0m\u001b[0;34m)\u001b[0m\u001b[0;34m\u001b[0m\u001b[0;34m\u001b[0m\u001b[0m\n",
            "\u001b[0;32m/usr/local/lib/python3.7/dist-packages/jax/_src/numpy/lax_numpy.py\u001b[0m in \u001b[0;36mstack\u001b[0;34m(arrays, axis, out, dtype)\u001b[0m\n\u001b[1;32m   1633\u001b[0m       \u001b[0;32mif\u001b[0m \u001b[0mshape\u001b[0m\u001b[0;34m(\u001b[0m\u001b[0ma\u001b[0m\u001b[0;34m)\u001b[0m \u001b[0;34m!=\u001b[0m \u001b[0mshape0\u001b[0m\u001b[0;34m:\u001b[0m\u001b[0;34m\u001b[0m\u001b[0;34m\u001b[0m\u001b[0m\n\u001b[1;32m   1634\u001b[0m         \u001b[0;32mraise\u001b[0m \u001b[0mValueError\u001b[0m\u001b[0;34m(\u001b[0m\u001b[0;34m\"All input arrays must have the same shape.\"\u001b[0m\u001b[0;34m)\u001b[0m\u001b[0;34m\u001b[0m\u001b[0;34m\u001b[0m\u001b[0m\n\u001b[0;32m-> 1635\u001b[0;31m       \u001b[0mnew_arrays\u001b[0m\u001b[0;34m.\u001b[0m\u001b[0mappend\u001b[0m\u001b[0;34m(\u001b[0m\u001b[0mexpand_dims\u001b[0m\u001b[0;34m(\u001b[0m\u001b[0ma\u001b[0m\u001b[0;34m,\u001b[0m \u001b[0maxis\u001b[0m\u001b[0;34m)\u001b[0m\u001b[0;34m)\u001b[0m\u001b[0;34m\u001b[0m\u001b[0;34m\u001b[0m\u001b[0m\n\u001b[0m\u001b[1;32m   1636\u001b[0m     \u001b[0;32mreturn\u001b[0m \u001b[0mconcatenate\u001b[0m\u001b[0;34m(\u001b[0m\u001b[0mnew_arrays\u001b[0m\u001b[0;34m,\u001b[0m \u001b[0maxis\u001b[0m\u001b[0;34m=\u001b[0m\u001b[0maxis\u001b[0m\u001b[0;34m,\u001b[0m \u001b[0mdtype\u001b[0m\u001b[0;34m=\u001b[0m\u001b[0mdtype\u001b[0m\u001b[0;34m)\u001b[0m\u001b[0;34m\u001b[0m\u001b[0;34m\u001b[0m\u001b[0m\n\u001b[1;32m   1637\u001b[0m \u001b[0;34m\u001b[0m\u001b[0m\n",
            "\u001b[0;32m/usr/local/lib/python3.7/dist-packages/jax/_src/numpy/lax_numpy.py\u001b[0m in \u001b[0;36mexpand_dims\u001b[0;34m(a, axis)\u001b[0m\n\u001b[1;32m    892\u001b[0m   \u001b[0;32mif\u001b[0m \u001b[0mhasattr\u001b[0m\u001b[0;34m(\u001b[0m\u001b[0ma\u001b[0m\u001b[0;34m,\u001b[0m \u001b[0;34m\"expand_dims\"\u001b[0m\u001b[0;34m)\u001b[0m\u001b[0;34m:\u001b[0m\u001b[0;34m\u001b[0m\u001b[0;34m\u001b[0m\u001b[0m\n\u001b[1;32m    893\u001b[0m     \u001b[0;32mreturn\u001b[0m \u001b[0ma\u001b[0m\u001b[0;34m.\u001b[0m\u001b[0mexpand_dims\u001b[0m\u001b[0;34m(\u001b[0m\u001b[0maxis\u001b[0m\u001b[0;34m)\u001b[0m\u001b[0;34m\u001b[0m\u001b[0;34m\u001b[0m\u001b[0m\n\u001b[0;32m--> 894\u001b[0;31m   \u001b[0;32mreturn\u001b[0m \u001b[0mlax\u001b[0m\u001b[0;34m.\u001b[0m\u001b[0mexpand_dims\u001b[0m\u001b[0;34m(\u001b[0m\u001b[0ma\u001b[0m\u001b[0;34m,\u001b[0m \u001b[0maxis\u001b[0m\u001b[0;34m)\u001b[0m\u001b[0;34m\u001b[0m\u001b[0;34m\u001b[0m\u001b[0m\n\u001b[0m\u001b[1;32m    895\u001b[0m \u001b[0;34m\u001b[0m\u001b[0m\n\u001b[1;32m    896\u001b[0m \u001b[0;34m\u001b[0m\u001b[0m\n",
            "\u001b[0;32m/usr/local/lib/python3.7/dist-packages/jax/_src/lax/lax.py\u001b[0m in \u001b[0;36mexpand_dims\u001b[0;34m(array, dimensions)\u001b[0m\n\u001b[1;32m   1289\u001b[0m   \u001b[0;32mfor\u001b[0m \u001b[0mi\u001b[0m \u001b[0;32min\u001b[0m \u001b[0msorted\u001b[0m\u001b[0;34m(\u001b[0m\u001b[0mdims_set\u001b[0m\u001b[0;34m)\u001b[0m\u001b[0;34m:\u001b[0m\u001b[0;34m\u001b[0m\u001b[0;34m\u001b[0m\u001b[0m\n\u001b[1;32m   1290\u001b[0m     \u001b[0mresult_shape\u001b[0m\u001b[0;34m.\u001b[0m\u001b[0minsert\u001b[0m\u001b[0;34m(\u001b[0m\u001b[0mi\u001b[0m\u001b[0;34m,\u001b[0m \u001b[0;36m1\u001b[0m\u001b[0;34m)\u001b[0m\u001b[0;34m\u001b[0m\u001b[0;34m\u001b[0m\u001b[0m\n\u001b[0;32m-> 1291\u001b[0;31m   \u001b[0mbroadcast_dims\u001b[0m \u001b[0;34m=\u001b[0m \u001b[0;34m[\u001b[0m\u001b[0mi\u001b[0m \u001b[0;32mfor\u001b[0m \u001b[0mi\u001b[0m \u001b[0;32min\u001b[0m \u001b[0mrange\u001b[0m\u001b[0;34m(\u001b[0m\u001b[0mndim_out\u001b[0m\u001b[0;34m)\u001b[0m \u001b[0;32mif\u001b[0m \u001b[0mi\u001b[0m \u001b[0;32mnot\u001b[0m \u001b[0;32min\u001b[0m \u001b[0mdims_set\u001b[0m\u001b[0;34m]\u001b[0m\u001b[0;34m\u001b[0m\u001b[0;34m\u001b[0m\u001b[0m\n\u001b[0m\u001b[1;32m   1292\u001b[0m   \u001b[0;32mreturn\u001b[0m \u001b[0mbroadcast_in_dim\u001b[0m\u001b[0;34m(\u001b[0m\u001b[0marray\u001b[0m\u001b[0;34m,\u001b[0m \u001b[0mresult_shape\u001b[0m\u001b[0;34m,\u001b[0m \u001b[0mbroadcast_dims\u001b[0m\u001b[0;34m)\u001b[0m\u001b[0;34m\u001b[0m\u001b[0;34m\u001b[0m\u001b[0m\n\u001b[1;32m   1293\u001b[0m \u001b[0;34m\u001b[0m\u001b[0m\n",
            "\u001b[0;32m/usr/local/lib/python3.7/dist-packages/jax/_src/lax/lax.py\u001b[0m in \u001b[0;36m<listcomp>\u001b[0;34m(.0)\u001b[0m\n\u001b[1;32m   1289\u001b[0m   \u001b[0;32mfor\u001b[0m \u001b[0mi\u001b[0m \u001b[0;32min\u001b[0m \u001b[0msorted\u001b[0m\u001b[0;34m(\u001b[0m\u001b[0mdims_set\u001b[0m\u001b[0;34m)\u001b[0m\u001b[0;34m:\u001b[0m\u001b[0;34m\u001b[0m\u001b[0;34m\u001b[0m\u001b[0m\n\u001b[1;32m   1290\u001b[0m     \u001b[0mresult_shape\u001b[0m\u001b[0;34m.\u001b[0m\u001b[0minsert\u001b[0m\u001b[0;34m(\u001b[0m\u001b[0mi\u001b[0m\u001b[0;34m,\u001b[0m \u001b[0;36m1\u001b[0m\u001b[0;34m)\u001b[0m\u001b[0;34m\u001b[0m\u001b[0;34m\u001b[0m\u001b[0m\n\u001b[0;32m-> 1291\u001b[0;31m   \u001b[0mbroadcast_dims\u001b[0m \u001b[0;34m=\u001b[0m \u001b[0;34m[\u001b[0m\u001b[0mi\u001b[0m \u001b[0;32mfor\u001b[0m \u001b[0mi\u001b[0m \u001b[0;32min\u001b[0m \u001b[0mrange\u001b[0m\u001b[0;34m(\u001b[0m\u001b[0mndim_out\u001b[0m\u001b[0;34m)\u001b[0m \u001b[0;32mif\u001b[0m \u001b[0mi\u001b[0m \u001b[0;32mnot\u001b[0m \u001b[0;32min\u001b[0m \u001b[0mdims_set\u001b[0m\u001b[0;34m]\u001b[0m\u001b[0;34m\u001b[0m\u001b[0;34m\u001b[0m\u001b[0m\n\u001b[0m\u001b[1;32m   1292\u001b[0m   \u001b[0;32mreturn\u001b[0m \u001b[0mbroadcast_in_dim\u001b[0m\u001b[0;34m(\u001b[0m\u001b[0marray\u001b[0m\u001b[0;34m,\u001b[0m \u001b[0mresult_shape\u001b[0m\u001b[0;34m,\u001b[0m \u001b[0mbroadcast_dims\u001b[0m\u001b[0;34m)\u001b[0m\u001b[0;34m\u001b[0m\u001b[0;34m\u001b[0m\u001b[0m\n\u001b[1;32m   1293\u001b[0m \u001b[0;34m\u001b[0m\u001b[0m\n",
            "\u001b[0;31mKeyboardInterrupt\u001b[0m: "
          ]
        }
      ]
    },
    {
      "cell_type": "code",
      "source": [],
      "metadata": {
        "id": "6fNHw16jjMxP"
      },
      "execution_count": null,
      "outputs": []
    }
  ]
}